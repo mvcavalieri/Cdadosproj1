{
 "cells": [
  {
   "cell_type": "markdown",
   "metadata": {},
   "source": [
    "# Projeto 1 - Ciência dos Dados"
   ]
  },
  {
   "cell_type": "markdown",
   "metadata": {},
   "source": [
    "Nome:Laura Perim\n",
    "\n",
    "Nome: Maria Victoria Cavalieri"
   ]
  },
  {
   "cell_type": "markdown",
   "metadata": {},
   "source": [
    "Atenção: Serão permitidos grupos de três pessoas, mas com uma rubrica mais exigente. Grupos deste tamanho precisarão fazer um questionário de avaliação de trabalho em equipe"
   ]
  },
  {
   "cell_type": "markdown",
   "metadata": {},
   "source": [
    "___\n",
    "Carregando algumas bibliotecas:"
   ]
  },
  {
   "cell_type": "code",
   "execution_count": 60,
   "metadata": {},
   "outputs": [],
   "source": [
    "%matplotlib inline\n",
    "import pandas as pd\n",
    "import matplotlib.pyplot as plt\n",
    "import numpy as np\n",
    "import os"
   ]
  },
  {
   "cell_type": "code",
   "execution_count": 61,
   "metadata": {
    "scrolled": false
   },
   "outputs": [
    {
     "name": "stdout",
     "output_type": "stream",
     "text": [
      "Esperamos trabalhar no diretório\n",
      "C:\\Users\\laura\\Documents\\2 semestre\\Cdadosproj1\n"
     ]
    }
   ],
   "source": [
    "print('Esperamos trabalhar no diretório')\n",
    "print(os.getcwd())"
   ]
  },
  {
   "cell_type": "markdown",
   "metadata": {},
   "source": [
    "Carregando a base de dados com os tweets classificados como relevantes e não relevantes:"
   ]
  },
  {
   "cell_type": "code",
   "execution_count": 62,
   "metadata": {},
   "outputs": [],
   "source": [
    "tweets= pd.read_excel('guarana.xlsx')"
   ]
  },
  {
   "cell_type": "markdown",
   "metadata": {},
   "source": [
    "___\n",
    "## Classificador automático de sentimento\n"
   ]
  },
  {
   "cell_type": "markdown",
   "metadata": {},
   "source": [
    "Faça aqui uma descrição do seu produto e o que considerou como relevante ou não relevante na classificação dos tweets.\n",
    "\n",
    "Guaraná é um refrigerante popular no Brasil. Consideramos relevantes os tweets que faziam referência a qualidade do produto, tweets que diziam que o consumidor gosta/quer o produto, comparações com outros refrigerantes ou características marcantes do produto, como manter o consumidor acordado."
   ]
  },
  {
   "cell_type": "markdown",
   "metadata": {},
   "source": [
    "___\n",
    "### Montando um Classificador Naive-Bayes\n",
    "\n",
    "Considerando apenas as mensagens da planilha Treinamento, ensine  seu classificador."
   ]
  },
  {
   "cell_type": "code",
   "execution_count": 63,
   "metadata": {},
   "outputs": [
    {
     "data": {
      "text/html": [
       "<div>\n",
       "<style scoped>\n",
       "    .dataframe tbody tr th:only-of-type {\n",
       "        vertical-align: middle;\n",
       "    }\n",
       "\n",
       "    .dataframe tbody tr th {\n",
       "        vertical-align: top;\n",
       "    }\n",
       "\n",
       "    .dataframe thead th {\n",
       "        text-align: right;\n",
       "    }\n",
       "</style>\n",
       "<table border=\"1\" class=\"dataframe\">\n",
       "  <thead>\n",
       "    <tr style=\"text-align: right;\">\n",
       "      <th></th>\n",
       "      <th>Treinamento</th>\n",
       "      <th>classificacao</th>\n",
       "    </tr>\n",
       "  </thead>\n",
       "  <tbody>\n",
       "    <tr>\n",
       "      <th>0</th>\n",
       "      <td>tomei cápsula de guaraná, café e agora comprei...</td>\n",
       "      <td>2</td>\n",
       "    </tr>\n",
       "    <tr>\n",
       "      <th>1</th>\n",
       "      <td>eu e bruno 2 viciados em guaraná</td>\n",
       "      <td>1</td>\n",
       "    </tr>\n",
       "    <tr>\n",
       "      <th>2</th>\n",
       "      <td>informações inúteis sobre mim:\\n\\naltura - não...</td>\n",
       "      <td>1</td>\n",
       "    </tr>\n",
       "    <tr>\n",
       "      <th>3</th>\n",
       "      <td>comendo aquela tapioca com guaraná do amazonas...</td>\n",
       "      <td>2</td>\n",
       "    </tr>\n",
       "    <tr>\n",
       "      <th>4</th>\n",
       "      <td>@urryoonert guaraná aqui não é refrigerante, t...</td>\n",
       "      <td>1</td>\n",
       "    </tr>\n",
       "  </tbody>\n",
       "</table>\n",
       "</div>"
      ],
      "text/plain": [
       "                                         Treinamento  classificacao\n",
       "0  tomei cápsula de guaraná, café e agora comprei...              2\n",
       "1                   eu e bruno 2 viciados em guaraná              1\n",
       "2  informações inúteis sobre mim:\\n\\naltura - não...              1\n",
       "3  comendo aquela tapioca com guaraná do amazonas...              2\n",
       "4  @urryoonert guaraná aqui não é refrigerante, t...              1"
      ]
     },
     "execution_count": 63,
     "metadata": {},
     "output_type": "execute_result"
    }
   ],
   "source": [
    "tweets.head()"
   ]
  },
  {
   "cell_type": "code",
   "execution_count": 64,
   "metadata": {},
   "outputs": [
    {
     "name": "stdout",
     "output_type": "stream",
     "text": [
      "                                           Treinamento classificacao\n",
      "0    tomei cápsula de guaraná, café e agora comprei...   Irrelevante\n",
      "1                     eu e bruno 2 viciados em guaraná     Relevante\n",
      "2    informações inúteis sobre mim:\\n\\naltura - não...     Relevante\n",
      "3    comendo aquela tapioca com guaraná do amazonas...   Irrelevante\n",
      "4    @urryoonert guaraná aqui não é refrigerante, t...     Relevante\n",
      "5    comi um cachorro quente tão bom agr pqp queria...   Irrelevante\n",
      "6    @soulthatblooms guaraná em pó me lembra de um ...   Irrelevante\n",
      "7    tempo que eu não sei oq é festa cm bolo e guar...     Relevante\n",
      "8    @marcosquezado1 opa! programão, ein?! vou acom...     Relevante\n",
      "9    queria muito um estrogonofe de camarão e um gu...     Relevante\n",
      "10   rt @lacristina__: so trocar por coca ou guaraná 👍     Relevante\n",
      "11   pensou em sabor ? #grquentinhas é qualidade e ...   Irrelevante\n",
      "12   strogonoff com batata palha e guaraná tudo pra...     Relevante\n",
      "13            vou tomar um copo de guaraná e vou dormi     Relevante\n",
      "14   rt @vitoriafelix__: quem é q come doce com gua...   Irrelevante\n",
      "15   caralho! como eu queria saber o contexto disso...   Irrelevante\n",
      "16   @nighttele nao falei amore, pra evitar conflit...   Irrelevante\n",
      "17   @francofrito mds... tu é a segunda pessoa que ...   Irrelevante\n",
      "18   coisas que combinam:\\n\\npizza + guaraná\\npipoc...     Relevante\n",
      "19   aqui em casa poder ter guarana n eu bebo toda ...     Relevante\n",
      "20   eu to com desejo de tomar dolly guaraná pode i...     Relevante\n",
      "21   @hazukiyoumi dog na chapa estaçao ac 8 reais +...     Relevante\n",
      "22   comprei um refrizinho p toma com minha janta q...   Irrelevante\n",
      "23         alguem me da um guarana geladinho pod favir     Relevante\n",
      "24   a mina aqui no trampo tá comendo um salgado e ...   Irrelevante\n",
      "25   renan perguntou se eu peguei guaraná falei que...   Irrelevante\n",
      "26                    suco de guaraná é tudo de bom ne     Relevante\n",
      "27   @jenipatzlaff mano sim kkkkk parece guaraná qu...   Irrelevante\n",
      "28   rt @werleeylima: a vida é loka msm há uns anos...   Irrelevante\n",
      "29   pó de guaraná e amendoim, hoje eu tô afim de c...     Relevante\n",
      "..                                                 ...           ...\n",
      "319                      precisava de um guaraná agora     Relevante\n",
      "320  @garciasales @vittorguidoni me lembra um pouco...   Irrelevante\n",
      "321  pegar esse \"bolinho e guaraná\" da vivian seman...   Irrelevante\n",
      "322  @starbockys hoje \\nvai ser \\numa festa\\nbolo e...   Irrelevante\n",
      "323  eu: filho quer suco?\\nele: não mãe, \"anuna\". (...   Irrelevante\n",
      "324  tava tomando guaraná e não tava matando a minh...   Irrelevante\n",
      "325  @linharesjnr @redemassa siiim.... as vezes usa...   Irrelevante\n",
      "326  tomo guarana, suco de caju, goiabada para sobr...   Irrelevante\n",
      "327  @guarana para de apoiar rodeio pra eu poder te...   Irrelevante\n",
      "328  pensou em sabor ? #grquentinhas é qualidade e ...   Irrelevante\n",
      "329  @vola_volare vou fazer guaraná com jabuticaba....   Irrelevante\n",
      "330  aquele pós almoço acompanhado de guaraná, gelo...   Irrelevante\n",
      "331  rt @ferjhon33: “tá bebendo guaraná e tá pegand...   Irrelevante\n",
      "332  @icaroanalises toddy\\nguaraná\\nmarvel\\nde bruy...   Irrelevante\n",
      "333  @emanoel_bitt eu odeio qnd ei leio guarána\\nlo...   Irrelevante\n",
      "334  @_p4zz só um eno guaraná depois kkk https://t....   Irrelevante\n",
      "335             @loveygmin não tem, só guaraná mesmo 😞   Irrelevante\n",
      "336  rt @jao4444: as criança na the choice embrasan...   Irrelevante\n",
      "337  rt @vitoriafelix__: quem é q come doce com gua...   Irrelevante\n",
      "338  a belle pediu p moça da padaria guarda o guara...   Irrelevante\n",
      "339            @guarana os dois tem a mesma quantidade   Irrelevante\n",
      "340  guardei um gole do guarana que eu comprei pra ...   Irrelevante\n",
      "341                   @_fefob e meu café e meu guaraná     Relevante\n",
      "342  td q eu queria agora era um hambúrguer da bk e...     Relevante\n",
      "343  olha só peguei minha folga na quinta pelo gren...   Irrelevante\n",
      "344  @claeruh parece o billy de st, é escroto e faz...   Irrelevante\n",
      "345  tava com vinte conto e tava só a felicidade, f...     Relevante\n",
      "346  botei meu guaraná no freezer e quase esqueço d...   Irrelevante\n",
      "347  e a vitoria que comeu bisnaga cm doritos enqnt...   Irrelevante\n",
      "348  [09/03/2020 23:36:47] kai: strogonoff\\n [09/03...   Irrelevante\n",
      "\n",
      "[349 rows x 2 columns]\n"
     ]
    },
    {
     "data": {
      "text/plain": [
       "'tomei cápsula de guaraná  café e agora comprei outra parada pra dar energia  o cansaço meu pai   '"
      ]
     },
     "execution_count": 64,
     "metadata": {},
     "output_type": "execute_result"
    }
   ],
   "source": [
    "tweets.loc[:,'classificacao'] = tweets['classificacao'].astype('category') \n",
    "tweets.classificacao.cat.categories = ['Relevante', 'Irrelevante']\n",
    "print(tweets)\n",
    "import re \n",
    "def limpeza(dados):\n",
    "    #import string\n",
    "    punctuation = '[!-.:?;,]' # Note que os sinais [] são delimitadores de um conjunto.\n",
    "    pattern = re.compile(punctuation)\n",
    "    text_subbed = re.sub(pattern, ' ', dados)\n",
    "    return text_subbed\n",
    "limpeza(tweets['Treinamento'][0])\n",
    "\n"
   ]
  },
  {
   "cell_type": "code",
   "execution_count": 65,
   "metadata": {},
   "outputs": [],
   "source": [
    "#ler o texto de apenas os tweets classificados como relevantes\n",
    "relevante_col=tweets[tweets['classificacao']=='Relevante']['Treinamento'] \n"
   ]
  },
  {
   "cell_type": "code",
   "execution_count": 66,
   "metadata": {},
   "outputs": [],
   "source": [
    "relevante_txt= \" \".join(relevante_col) # arrumando para forma de texto com espacos entre as palavras"
   ]
  },
  {
   "cell_type": "code",
   "execution_count": 67,
   "metadata": {},
   "outputs": [
    {
     "data": {
      "text/plain": [
       "'eu e bruno 2 viciados em guaraná informações inúteis sobre mim \\n\\naltura   não sei\\ntamanho do pé   37\\ntatuagens   0\\npiercing   0\\ncor fav   azul/preto/roxo\\nfilme fav   no momento capitão fantástico\\nsérie fav   stranger things\\ncomida fav   strogonoff/pizza\\nbebida fav   guaraná https //t co/kqcleotkxg @urryoonert guaraná aqui não é refrigerante  tá mais para um refresco com muuuuuito açúcar kkk tempo que eu não sei oq é festa cm bolo e guaraná  vagabundo só quer sabe de brahma e voodk cm energético ainda surgi a ousadia fudeu @marcosquezado1 opa  programão  ein   vou acompanhar com pipoca e guaraná  mas esses militontos tem mudado de placa e cores    mesmo q extintos  o eleitor tem que aprender a escolher  e a apuração dos votos tem que ser idônea  queria muito um estrogonofe de camarão e um guaraná antártica bem gelado   deus prfvr tenha piedade de mim rt @lacristina__  so trocar por coca ou guaraná 👍 strogonoff com batata palha e guaraná tudo pra mim vou tomar um copo de guaraná e vou dormi coisas que combinam \\n\\npizza   guaraná\\npipoca   refrigerante\\nhambúrguer   batata frita\\neu   você comendo tudo isso bb\\n\\nvai perder essa oportunidade  aqui em casa poder ter guarana n eu bebo toda hora mais agua q e bom nadaaaa eu to com desejo de tomar dolly guaraná pode isso     @hazukiyoumi dog na chapa estaçao ac 8 reais   guarana em lata te amo alguem me da um guarana geladinho pod favir suco de guaraná é tudo de bom ne pó de guaraná e amendoim  hoje eu tô afim de caprichar fui tomar pó de guaraná achando que tinha gosto de tang  quando fui ver era só a terra bom dia pessoal  hoje eu substitui uma xícara de café por uma colher de pó de guaraná  \\n\\n10 minutos atrás eu tava morrendo com uma pequena aceleração  \\n\\n1º dia de pó de guaraná e zero sonos  \\nacompanhem o diário rt @sulcideluk  charrua melhor guaraná quem discorda tá errado rt @brvmxs  10  40 da manha  acordar  tomar um café da manhã saudável com um guaraná e depois jogar uma aramzinha c meu amor  ahaaaaam aquele guaraná em pó pra levantar a moral só bolinha de queijo  guaraná e chocolate pra me fazer feliz hj    lá vou eu gastar dinheiro na facul eu queria meu guaraná jesus e o esaú n guardou nada pra mim\\neu fiquei muito triste https //t co/1iwjfs581i @btsfeel hoje vai ser uma festa\\nbola e guaraná muito doce pra comer\\n\\nfeliz aniversário anjinho   \\nhttps //t co/mg4kmkotxs matei minha vontade de comer estrogonofe com copao de guaraná antártica @favoriteany é feito de guaraná mas não é refrigerante  tá mais para um refresco com muuuuuito açúcar charrua melhor guaraná quem discorda tá errado que guarana ruim é esse kuat gosto de remédio purinho  ainda me sobra varios dele    😣🤮 a segunda feira já foi quase todo volume de trabalho concentrado num dia só  hoje eu já acordei tomando meu shot de limão adicionado de guaraná em pó e catei a cápsula mais forte de café que já passou por essa casa  agora só falta um guindaste me levantar porque tá foda    guarana friburgo esta no meu top 3 de refrigerantes tudo que eu queria era aquele guaraná do amazonas que vende no bonarabe @jasrwgers itiiiiiiiiijehehehejejeje oh meu deus a irmã te ama demais  traz bolo sim  vamos comer muito bolo e guaraná parei de tomar refri há mais de um ano  pq eu quis  e o sabor que eu mais sinto falta é o guaraná  mas agora lançaram o natu e eu preciso experimentar rt @rubinhoffc  guaraná kuat não é refrigerante  é remédio queria tomar uns 2 litros de guaraná jesus agr tlgd n sei se eu to adaptado ou se meu corpo ta mais resistente  to tomando café e logo em seguido to bebendo guaraná pra da energia e n adianta em porra nenhuma  @littlesacra trás guaraná jesus pa nós amanhã vou gastar todo meu dinheiro com drogas  das mais pesadas  sem dó nem piedade  bolo de chocolate  guaraná da amazônia  milkshake  sunday vo ficar lokona @piiece_of_peace @agustdvv açaí de banana e guarana eu gosto  mas me enjoa rápido pq fica mt doce pra mim\\neu gosto de morango ou maracuja que aí eu posso encher de complementos e não enjoa nunca ♥ @hastadlol ja bebeu seu guarana hj  @mltbysungg @melhortutorial bebi umas 4 lata de guarana seguida  to e m b r e a g a d o eu te amo  guaraná antarctica ontem n fui dormir mt bem e hoje tb n acordei legal    09h da manhã eu comendo bolinho de queijo e mistinho cheio de ketchup c um guaraná bem geladinho  agora m sinto preparada p qualquer tombo da vida minha chefe manda eu ir assistir treinamento  só pra comer pipoca e tomar guaraná 😂😂😂 melhor não tem ❤️ rt @portellazzz  como que eu vou parar de tomar refri se guaraná antártica é a melhor coisa já criada nesse mundo   tentando estudar sem usar nada pra ficar acordada  mas estou falhando miseravelmente e vamos de energético e pó de guaraná  existem pessoas que amam guaraná eu por exemplo tenho uma tatuagem disso   tatuagem do guaraná  serio   não óbvio que não  eu lembrando que tenho a tatuagem do vinho @carlosfreitaaas quero o guaraná tá certo que eu prefiro guaraná mas eu to bebendo uma coca bem geladinha 🤩 sedenta por um copo de guaraná o acreano q mora fora quando encontra qualquer projeto de açaí que nao tenha gosto de xarope de guaraná nao quer guerra com ninguem acordei estressado  mas fui no mercado e lancei aquele guaraná do bom vontade de comer um italiano quentinho e tomar um refrigerante de guaraná caraca mane  que desejo absurdo que eu to de tomar um guaraná antártica geladin @hastadlol os cara curte guaraná rt @melbruu  se tem uma coisa que eu gosto de beber é guaraná natural pqp 🤤🤤🤤 to viciada em guaraná mix e agora mds      rt @giibatistaa  td q eu queria agora era um hambúrguer da bk e aquele refil de guaraná antárctica mais um gaúcho conhecendo o melhor guaraná que existe 💁🏼\\u200d♀️😅 https //t co/rqrecjptcq eu pago um suquinho de guaraná queria tomar um guaraná da heineken não resisto a um guaraná antártica 😋🤦 quase 5h da manhã e eu c vontade de tomar guaraná 🤦🏻\\u200d♀️ kkkkkkkkkkkk se tem uma coisa que eu gosto de beber é guaraná natural pqp 🤤🤤🤤 @rick_c99 guaraná e melhor tava ha umas semanas sem beber nenhum refri e fui inventar de beber hoje um guaraná  vei não aguentei dar 2 goles que sensação horrível o que eu não daria por um empadão e um guaraná agora a pessoa q come um hambúrguer c cheddar e um guaraná antárctica no café da manhã n quer guerra c ngm a grande rio vem de guaraná mesmo  https //t co/w6cefsjjnf lembrei de um sorvete de guarana q eu comi anteontem nodsa foi a pior coisa q eu ja tomei na minha vida juro thiago comprou um montão de coisa no domingo  já acabou tudo  até o guaraná kkkkkkkkkkkkkkkkkkk q ódio só queria saber onde eu encontro o guaraná antártica 100  natural sou a mulher mais feliz comendo yakissoba e tomando guarana jesus @2xminilyce aa guaraná não é mt bom  mas caso vc não tiver melhor amanhã  se ai onde vc mora tiver chá de boldo ajuda mt guaraná antárctica   óbvio @guarana este é o melhor guaraná do mundo amo🥰🥰🥰 e se eu comesse um hamburgao com guarana agora https //t co/pev1lu3902 rt @potterlov3  queria muito um estrogonofe de camarão e um guaraná antártica bem gelado   deus prfvr tenha piedade de mim a cada 30 min pego um pouco de guaraná jesus q era p fim de semana veja o novo refrigerante da guaraná antarctica sem açúcar e corantes https //t co/y7sujfowch https //t co/3duhazc4yr rt @emilly_uai  é logico que guaraná  é melhor  que coca plmd @gabrielolivf me chama eu levo guarana e po a única vontade é enrolar as duas pizza da nono picoli e comer tomando o guaraná q vem na promo guarana zero de visual novo      estranhei    mas ta lindinha de roupa nova  https //t co/ltlaoxzmyw deus  meu deus  pq eu como 10 coxinhas com guaraná e dps reclamo q to gorda  guaraná antarctica  é melhor que coca cola  queria tomar um suco de guaraná @joosepulveda2 grapette e guaraná coroa juntos é pedir pra morrer @lovesurreax kjkjjkkkk eh guaraná com mais açúcar e melhor acho que não existe ngm mais apaixonada do que eu por convenção guaraná 😋😍❤️ crlh ryan fominha de guaraná eu sei q todo mundo acha mas ninguém tem coragem pra falar     suco de guaraná é bom pakas a última vez que eu tomei café e po de guaraná eu não parava quieta  vamos ver né meu cunhado fez um negócio de açaí com pó de guaraná e estou aqui ligadona e sem sono @rafarosadas eu sou suco de manga/uva e refri sem gas de guaraná  nao fico sem amg\\nnão consigo gostar de agua com gas n vejo sentindoooooo “tia me dá guaraná” 🥰🥰🥰 vontade de um guaraná geladinho puta merda único refrigerante que me dá gatilho é o guaraná garoto q eu não posso ver q meu cerebro fica o próprio meme\\n\\nquelo beber refrigelante tomei uma xicara de café puto de forte e um cp de guaraná extra e to lutando com meus olhos p fica aberto 😥 pepsi  coca cola e guaraná antártica são os melhores refris da vida queria almoçar uma saladinha da estação do guaraná ☹️ rt @candeiakethlyn  guaraná é mt melhor q coca @mavivalenza guaraná em pó  é bom  mas se vc trm problema no coração talvez seja um pouco arriscado melhores bebidas do brasil  guaravita e guaraná jesus e sem choro https //t co/cspq5zyrvs @lukasssid meti 3 burgao com 3 guaraná por 13 50 to feliz demais fi td q eu queria agora era um hambúrguer da bk e aquele refil de guaraná antárctica @babs_costa tô tomando guaraná a uma semana  não fez efeito algum  tem que tomar a cafeína em cápsulas mesmo se gabi levar guaraná jesus pra mim eu vou ser a mulher mais feliz de planície rt @hrmnyj  guaraná antartica é mil vezes melhor q coca  sou do rj e vim dizer que o camp de uva é o melhor guarana https //t co/gmcy2z4atg precisava de um guaraná agora pedi ela pra  comprar suco de açai com guaraná e ela me vem com laranja com mamão a médica  nada de guaraná em mariana \\neu as 5 00 da manhã  quelo gualana gelado tomei uma cápsula de guaraná  espero que me ajude pq to quase falecendo real não aguento mais tomar guaraná 🤮 fanta🤮 kkkkkkkkkkkk ele é demais  desse tamanho viciado guaraná https //t co/vkp6j2sath eu tentando suprir minha vontade de comer açúcar tomando guaraná zero \\n\\nodioooo caralho eu amo guaraná cruzeiro q vontade louca de tomar um refri  um guaraná bem geladinho 🥺🤦\\u200d♀️ quem inventou o guaraná kuat devia tá c mt ódio da população pqp q bag horrível @radcurtain meu deus amo esse guaraná tomei cápsula de guaraná  café e agora comprei outra parada pra dar energia  o cansaço meu pai    precisava de um guaraná agora @_fefob e meu café e meu guaraná td q eu queria agora era um hambúrguer da bk e aquele refil de guaraná antárctica tava com vinte conto e tava só a felicidade  fui pra outra cidade e bati um prato de estrogonofe com uma guaraná de 1l me arrependi e quero meu dinheiro de volta  o estrogonofe tava top mas eu tô pobre 😭😭😭 '"
      ]
     },
     "execution_count": 67,
     "metadata": {},
     "output_type": "execute_result"
    }
   ],
   "source": [
    "#limpando o texto com a funcao\n",
    "relevante_txt_limpo = limpeza(relevante_txt)\n",
    "relevante_txt_limpo"
   ]
  },
  {
   "cell_type": "code",
   "execution_count": 68,
   "metadata": {},
   "outputs": [],
   "source": [
    "#arrumando todas as palavras relevantes para  calcular a  frequencia relativa delas\n",
    "todas_rel= relevante_txt_limpo.split()\n",
    "serie_rel = pd.Series(todas_rel) \n",
    "tabela_relativar= serie_rel.value_counts(sort=False)\n"
   ]
  },
  {
   "cell_type": "code",
   "execution_count": 69,
   "metadata": {},
   "outputs": [],
   "source": [
    "#ler o texto de apenas os tweets classificados como irrelevantes\n",
    "\n",
    "irrelevante_col=tweets[tweets['classificacao']=='Irrelevante']['Treinamento']\n",
    "\n"
   ]
  },
  {
   "cell_type": "code",
   "execution_count": 70,
   "metadata": {},
   "outputs": [],
   "source": [
    "# arrumando para forma de texto com espacos entre as palavras\n",
    "irrelevante_txt= \" \".join(irrelevante_col) "
   ]
  },
  {
   "cell_type": "code",
   "execution_count": 71,
   "metadata": {},
   "outputs": [],
   "source": [
    "irrelevante_txt_limpo = limpeza(irrelevante_txt) #limpando o texto com a funcao"
   ]
  },
  {
   "cell_type": "code",
   "execution_count": 72,
   "metadata": {},
   "outputs": [
    {
     "name": "stdout",
     "output_type": "stream",
     "text": [
      "um               53\n",
      "andrade           2\n",
      "ela”              3\n",
      "pod…              1\n",
      "passava           1\n",
      "😂😂😂😂😂             1\n",
      "dolly             1\n",
      "🎵dolly🎶           1\n",
      "ovos              1\n",
      "encontrei         1\n",
      "obrigado          2\n",
      "37                2\n",
      "passaram          1\n",
      "sacooooo          1\n",
      "cris              4\n",
      "dormir            1\n",
      "estava            4\n",
      "pokémons          1\n",
      "parte             2\n",
      "grquentinhas      2\n",
      "formiga           2\n",
      "trazia            1\n",
      "tudooo            1\n",
      "teste             1\n",
      "bar               1\n",
      "sobremesaaaaa     2\n",
      "barraco           1\n",
      "antártica         7\n",
      "ódio              1\n",
      "artilheira        5\n",
      "                 ..\n",
      "quando            4\n",
      "garrafão          1\n",
      "promocional       1\n",
      "¯                 2\n",
      "recorde           1\n",
      "“tá               3\n",
      "festa             6\n",
      "daniel            1\n",
      "comentário        1\n",
      "fritas            1\n",
      "doce             10\n",
      "curuzu            1\n",
      "dos               3\n",
      "perto             1\n",
      "escroto           2\n",
      "guardiola         4\n",
      "explodiu          1\n",
      "aquela            3\n",
      "jogue             2\n",
      "gosto             8\n",
      "bbb               2\n",
      "recebeeeeeer      1\n",
      "9                 2\n",
      "piá               1\n",
      "gelo              1\n",
      "@nighttele        1\n",
      "@loveygmin        2\n",
      "eleita            1\n",
      "facada            1\n",
      "perdida           1\n",
      "Length: 1354, dtype: int64\n",
      "co/kqcleotkxg        1\n",
      "casa                 2\n",
      "coroa                1\n",
      "saber                1\n",
      "refresco             2\n",
      "@guarana             1\n",
      "errado               2\n",
      "resistente           1\n",
      "em                  11\n",
      "montão               1\n",
      "37                   1\n",
      "gatilho              1\n",
      "tatuagens            1\n",
      "comprei              1\n",
      "chocolate            2\n",
      "hoje                 6\n",
      "@joosepulveda2       1\n",
      "milkshake            1\n",
      "tlgd                 1\n",
      "como                 2\n",
      "chama                1\n",
      "fav                  5\n",
      "strogonoff/pizza     1\n",
      "😭😭😭                  1\n",
      "vinte                1\n",
      "são                  1\n",
      "@lukasssid           1\n",
      "ne                   1\n",
      "energético           2\n",
      "ódio                 2\n",
      "                    ..\n",
      "ajuda                1\n",
      "@piiece_of_peace     1\n",
      "quando               2\n",
      "morrer               1\n",
      "pedi                 1\n",
      "festa                2\n",
      "mds                  1\n",
      "visual               1\n",
      "dos                  1\n",
      "prato                1\n",
      "bem                  6\n",
      "@emilly_uai          1\n",
      "tiver                2\n",
      "meti                 1\n",
      "sou                  3\n",
      "era                  6\n",
      "cp                   1\n",
      "coca                 7\n",
      "gaúcho               1\n",
      "zero                 3\n",
      "gosto                7\n",
      "uns                  1\n",
      "camarão              2\n",
      "treinamento          1\n",
      "refrigerantes        1\n",
      "comprar              1\n",
      "cor                  1\n",
      "tomar               16\n",
      "antártica            8\n",
      "triste               1\n",
      "Length: 740, dtype: int64\n"
     ]
    }
   ],
   "source": [
    "#irrelevante_contagem = pd.DataFrame(irrelevante_txt_limpo.split())\n",
    "todas_irrel=  irrelevante_txt_limpo.split()\n",
    "serie_irrel= pd.Series(todas_irrel)\n",
    "tabela_absoluta= serie_irrel.value_counts(sort=False)\n",
    "print(tabela_relativai)\n",
    "print(tabela_relativar)\n"
   ]
  },
  {
   "cell_type": "code",
   "execution_count": 73,
   "metadata": {},
   "outputs": [
    {
     "name": "stdout",
     "output_type": "stream",
     "text": [
      "guaraná          0.047080\n",
      "de               0.034777\n",
      "e                0.031168\n",
      "eu               0.023130\n",
      "que              0.017388\n",
      "é                0.017060\n",
      "um               0.015748\n",
      "a                0.015256\n",
      "o                0.014272\n",
      "com              0.012303\n",
      "do               0.008858\n",
      "pra              0.008694\n",
      "//t              0.008202\n",
      "https            0.008202\n",
      "não              0.008202\n",
      "em               0.008202\n",
      "uma              0.007710\n",
      "q                0.007382\n",
      "da               0.007218\n",
      "meu              0.006398\n",
      "rt               0.006234\n",
      "mas              0.005249\n",
      "guarana          0.004921\n",
      "se               0.004921\n",
      "mais             0.004593\n",
      "me               0.004593\n",
      "na               0.004429\n",
      "no               0.004101\n",
      "só               0.004101\n",
      "lá               0.003773\n",
      "                   ...   \n",
      "chefe            0.000164\n",
      "/¯/              0.000164\n",
      "30               0.000164\n",
      "juro             0.000164\n",
      "@_pedronapa      0.000164\n",
      "saí              0.000164\n",
      "ein              0.000164\n",
      "@rafarosadas     0.000164\n",
      "¿¿¿              0.000164\n",
      "😂❤️              0.000164\n",
      "co/vk8tjt1hdz    0.000164\n",
      "viciados         0.000164\n",
      "voltava          0.000164\n",
      "corpinho         0.000164\n",
      "@tt_perolass     0.000164\n",
      "elas             0.000164\n",
      "lobinho          0.000164\n",
      "choco            0.000164\n",
      "vários           0.000164\n",
      "@banydeinert     0.000164\n",
      "b                0.000164\n",
      "comandante       0.000164\n",
      "hauaha           0.000164\n",
      "🥗                0.000164\n",
      "combinamos       0.000164\n",
      "seccional        0.000164\n",
      "sessão           0.000164\n",
      "planta           0.000164\n",
      "meio             0.000164\n",
      "certamente       0.000164\n",
      "Length: 1772, dtype: float64\n"
     ]
    }
   ],
   "source": [
    "#frequencia relativa das palavras relevantes e irrelevantes juntas\n",
    "todas_palavras= relevante_txt_limpo + irrelevante_txt_limpo\n",
    "serie_tudo= pd.Series(todas_palavras.split())\n",
    "tabela_absoluta_tudo= serie_tudo.value_counts(sort=False)\n",
    "print(tabela_relativa_tudo)"
   ]
  },
  {
   "cell_type": "code",
   "execution_count": 74,
   "metadata": {
    "scrolled": true
   },
   "outputs": [
    {
     "name": "stdout",
     "output_type": "stream",
     "text": [
      "0.6852034120734908\n",
      "0.31479658792650916\n"
     ]
    }
   ],
   "source": [
    "probI= len(serie_irrel)/len(serie_tudo)\n",
    "probR= len(serie_rel)/len(serie_tudo)\n",
    "print(probI)\n",
    "print(probR)\n"
   ]
  },
  {
   "cell_type": "code",
   "execution_count": 75,
   "metadata": {},
   "outputs": [
    {
     "name": "stdout",
     "output_type": "stream",
     "text": [
      "0                    eu\n",
      "1                     e\n",
      "2                 bruno\n",
      "3                     2\n",
      "4              viciados\n",
      "5                    em\n",
      "6               guaraná\n",
      "7           informações\n",
      "8               inúteis\n",
      "9                 sobre\n",
      "10                  mim\n",
      "11               altura\n",
      "12                  não\n",
      "13                  sei\n",
      "14              tamanho\n",
      "15                   do\n",
      "16                   pé\n",
      "17                   37\n",
      "18            tatuagens\n",
      "19                    0\n",
      "20             piercing\n",
      "21                    0\n",
      "22                  cor\n",
      "23                  fav\n",
      "24      azul/preto/roxo\n",
      "25                filme\n",
      "26                  fav\n",
      "27                   no\n",
      "28              momento\n",
      "29              capitão\n",
      "             ...       \n",
      "6066            guarana\n",
      "6067        [09/03/2020\n",
      "6068                 23\n",
      "6069                 36\n",
      "6070                47]\n",
      "6071                kai\n",
      "6072         strogonoff\n",
      "6073        [09/03/2020\n",
      "6074                 23\n",
      "6075                 36\n",
      "6076                49]\n",
      "6077                kai\n",
      "6078                com\n",
      "6079               coca\n",
      "6080        [09/03/2020\n",
      "6081                 23\n",
      "6082                 36\n",
      "6083                56]\n",
      "6084             irmão💕\n",
      "6085                  n\n",
      "6086               bebo\n",
      "6087            guaraná\n",
      "6088        [09/03/2020\n",
      "6089                 23\n",
      "6090                 37\n",
      "6091                03]\n",
      "6092                kai\n",
      "6093                mas\n",
      "6094                 eu\n",
      "6095               bebo\n",
      "Length: 6096, dtype: object\n"
     ]
    }
   ],
   "source": [
    "\n",
    "print(serie_tudo)"
   ]
  },
  {
   "cell_type": "code",
   "execution_count": 76,
   "metadata": {},
   "outputs": [
    {
     "name": "stdout",
     "output_type": "stream",
     "text": [
      "um               53\n",
      "andrade           2\n",
      "ela”              3\n",
      "pod…              1\n",
      "passava           1\n",
      "😂😂😂😂😂             1\n",
      "dolly             1\n",
      "🎵dolly🎶           1\n",
      "ovos              1\n",
      "encontrei         1\n",
      "obrigado          2\n",
      "37                2\n",
      "passaram          1\n",
      "sacooooo          1\n",
      "cris              4\n",
      "dormir            1\n",
      "estava            4\n",
      "pokémons          1\n",
      "parte             2\n",
      "grquentinhas      2\n",
      "formiga           2\n",
      "trazia            1\n",
      "tudooo            1\n",
      "teste             1\n",
      "bar               1\n",
      "sobremesaaaaa     2\n",
      "barraco           1\n",
      "antártica         7\n",
      "ódio              1\n",
      "artilheira        5\n",
      "                 ..\n",
      "quando            4\n",
      "garrafão          1\n",
      "promocional       1\n",
      "¯                 2\n",
      "recorde           1\n",
      "“tá               3\n",
      "festa             6\n",
      "daniel            1\n",
      "comentário        1\n",
      "fritas            1\n",
      "doce             10\n",
      "curuzu            1\n",
      "dos               3\n",
      "perto             1\n",
      "escroto           2\n",
      "guardiola         4\n",
      "explodiu          1\n",
      "aquela            3\n",
      "jogue             2\n",
      "gosto             8\n",
      "bbb               2\n",
      "recebeeeeeer      1\n",
      "9                 2\n",
      "piá               1\n",
      "gelo              1\n",
      "@nighttele        1\n",
      "@loveygmin        2\n",
      "eleita            1\n",
      "facada            1\n",
      "perdida           1\n",
      "Length: 1354, dtype: int64\n",
      "co/kqcleotkxg        1\n",
      "casa                 2\n",
      "coroa                1\n",
      "saber                1\n",
      "refresco             2\n",
      "@guarana             1\n",
      "errado               2\n",
      "resistente           1\n",
      "em                  11\n",
      "montão               1\n",
      "37                   1\n",
      "gatilho              1\n",
      "tatuagens            1\n",
      "comprei              1\n",
      "chocolate            2\n",
      "hoje                 6\n",
      "@joosepulveda2       1\n",
      "milkshake            1\n",
      "tlgd                 1\n",
      "como                 2\n",
      "chama                1\n",
      "fav                  5\n",
      "strogonoff/pizza     1\n",
      "😭😭😭                  1\n",
      "vinte                1\n",
      "são                  1\n",
      "@lukasssid           1\n",
      "ne                   1\n",
      "energético           2\n",
      "ódio                 2\n",
      "                    ..\n",
      "ajuda                1\n",
      "@piiece_of_peace     1\n",
      "quando               2\n",
      "morrer               1\n",
      "pedi                 1\n",
      "festa                2\n",
      "mds                  1\n",
      "visual               1\n",
      "dos                  1\n",
      "prato                1\n",
      "bem                  6\n",
      "@emilly_uai          1\n",
      "tiver                2\n",
      "meti                 1\n",
      "sou                  3\n",
      "era                  6\n",
      "cp                   1\n",
      "coca                 7\n",
      "gaúcho               1\n",
      "zero                 3\n",
      "gosto                7\n",
      "uns                  1\n",
      "camarão              2\n",
      "treinamento          1\n",
      "refrigerantes        1\n",
      "comprar              1\n",
      "cor                  1\n",
      "tomar               16\n",
      "antártica            8\n",
      "triste               1\n",
      "Length: 740, dtype: int64\n"
     ]
    }
   ],
   "source": [
    "#quantas vezes aparecem cada palavra\n",
    "freq_irrel= serie_irrel.value_counts(sort=False)\n",
    "print(freq_irrel)\n",
    "freq_rel= serie_rel.value_counts(sort=False)\n",
    "print(freq_rel)\n"
   ]
  },
  {
   "cell_type": "code",
   "execution_count": 77,
   "metadata": {},
   "outputs": [
    {
     "name": "stdout",
     "output_type": "stream",
     "text": [
      "4177\n",
      "4177\n"
     ]
    }
   ],
   "source": [
    "somaR= tabela_absoluta.sum()\n",
    "print(somaR)\n",
    "somaI= tabela_absoluta.sum()\n",
    "print(somaI)"
   ]
  },
  {
   "cell_type": "markdown",
   "metadata": {},
   "source": [
    "___\n",
    "### Verificando a performance do Classificador\n",
    "\n",
    "Agora você deve testar o seu classificador com a base de Testes."
   ]
  },
  {
   "cell_type": "code",
   "execution_count": 78,
   "metadata": {},
   "outputs": [
    {
     "name": "stdout",
     "output_type": "stream",
     "text": [
      "0                   @waagfreeitas kkkkk guaraná do jovem\n",
      "1      @joaomiguelbdb bicho eu penso isso mas com rel...\n",
      "2      a belle pediu p moça da padaria guarda o guara...\n",
      "3       조승연 posta foto que eu te dou churrasco e guarana\n",
      "4      @calebesouzao @pedrotolhos @guarana por nada, ...\n",
      "5      @guarana @canellamatheus  @lucasinutilismo  co...\n",
      "6      minha pressao ta caindo mais que a paulinha do...\n",
      "7      @giupanaro @ehdaora vc nao ta mto longe disso,...\n",
      "8      rt @tiobooboodepre: ja teve quarto branco. con...\n",
      "9      deusa abençoe o guaraná gelado com uma rodela ...\n",
      "10     acabei de colocar guaraná, café, energético e ...\n",
      "11     rt @kmeirelles21: ela pensou que era festa e e...\n",
      "12     o que vale mais um guaraná fruki ou a minha vida?\n",
      "13     @emy_wiki não é refrigerante, é tipo um refres...\n",
      "14     @victor_guarana @ehdaora kkkkkkkk tipo de piad...\n",
      "15                      bom dia alguém me dá eno guaraná\n",
      "16     o auge eu e a minha irmã pegando as guaraná pr...\n",
      "17     @_gabrielos só me chamar pro churras e me dar ...\n",
      "18     dormi só 4h essa noite... só esse meio litro d...\n",
      "19     guaraná coroa melhor guaraná quem discorda é c...\n",
      "20     meu sonho de princesa é levar o boy pra experi...\n",
      "21                         refri de guarana é bom demais\n",
      "22     [9/3 22:36] maninha: encomendei 1200 salgados ...\n",
      "23     como que eu vou parar de tomar refri se guaran...\n",
      "24     rt @chelseadepre: hoje vai ter uma festa\\n\\nbo...\n",
      "25     minha folga vou rodar aquele centro atrás de p...\n",
      "26     é o meu aniversário bolo guarana muito doce pr...\n",
      "27     @ellenbarcelloss opaaaaaaa, então fechou, leva...\n",
      "28     meu pai mandou 4 garrafas de guaraná jesus, co...\n",
      "29     hoje do nda me deu uma vontade súbita de guara...\n",
      "                             ...                        \n",
      "119    tomo guaraná! suco de caju! goiabada para sobr...\n",
      "120    cara, eu realmente espero não estar confundind...\n",
      "121    @2xminilyce aa guaraná não é mt bom, mas caso ...\n",
      "122                    macarrão + guaraná = tudo pra mim\n",
      "123    gnt o angelo n se valoriza tava ligando pro bo...\n",
      "124    @isa_barbosas15 sério??? ah, o guaraná tbm n f...\n",
      "125    @aidenj0estar tipo minha tia que chama até águ...\n",
      "126    tá certo que eu prefiro guaraná mas eu to bebe...\n",
      "127    @ana_coment @stitchesns @luagess @thelminha_as...\n",
      "128              @hastadlol e a bebida, vai ser guaraná?\n",
      "129    @icaroanalises nescau \\nguaraná \\njá fui mais ...\n",
      "130    eu acho que zlatan ibrahimović foi a única pes...\n",
      "131    \"existem pessoas que amam guaraná eu por exemp...\n",
      "132    @moreiranatalia_ falei pra xande a vontade que...\n",
      "133    amanhã vou gastar todo meu dinheiro com drogas...\n",
      "134    projeto #bemestar a vencetex apoia! #equipe #g...\n",
      "135    @quiel027 @obqdc me falta o capital kkkkkkkkkk...\n",
      "136    ypióca guaraná patrocina essa galera pra mais ...\n",
      "137           eu topo dividir um guarana na praça brasil\n",
      "138    amanhã vou trabalhar só o pito. vou botar pó d...\n",
      "139    até agora sem acreditar que no rio eles adoçam...\n",
      "140    esse guaraná quente deve da uma sede... https:...\n",
      "141           @starkov_alina sigo com meu bolo e guaraná\n",
      "142    eu sei q todo mundo acha mas ninguém tem corag...\n",
      "143    @mavivalenza guaraná em pó, é bom, mas se vc t...\n",
      "144    nois bebe eh guaraná nois bebe eh guaraná cach...\n",
      "145    meu sonho de princesa é levar o boy pra experi...\n",
      "146    @marcosquezado1 opa! programão, ein?! vou acom...\n",
      "147    rt @crvgdanni: pó de guaraná e amendoim, hoje ...\n",
      "148    rt @mhventura77: @myynfreiitas voltava do cair...\n",
      "Name: Teste, Length: 149, dtype: object\n"
     ]
    }
   ],
   "source": [
    "teste = []\n",
    "tweetsteste= pd.read_excel('guarana.xlsx',sheet_name='Teste')\n",
    "df=pd.DataFrame(tweetsteste)\n",
    "tweets_teste= tweetsteste['Teste']\n",
    "tweets_teste=tweets_teste.drop(columns=\"Teste\")\n",
    "    \n",
    "print(tweets_teste)"
   ]
  },
  {
   "cell_type": "code",
   "execution_count": 79,
   "metadata": {},
   "outputs": [
    {
     "name": "stderr",
     "output_type": "stream",
     "text": [
      "C:\\Users\\laura\\Anaconda3\\lib\\site-packages\\ipykernel_launcher.py:33: SettingWithCopyWarning: \n",
      "A value is trying to be set on a copy of a slice from a DataFrame\n",
      "\n",
      "See the caveats in the documentation: http://pandas.pydata.org/pandas-docs/stable/indexing.html#indexing-view-versus-copy\n"
     ]
    },
    {
     "data": {
      "text/plain": [
       "0                                          @waagfreeitas kkkkk guaraná do jovem\n",
       "1                             @joaomiguelbdb bicho eu penso isso mas com rel...\n",
       "2                             a belle pediu p moça da padaria guarda o guara...\n",
       "3                              조승연 posta foto que eu te dou churrasco e guarana\n",
       "4                             @calebesouzao @pedrotolhos @guarana por nada, ...\n",
       "5                             @guarana @canellamatheus  @lucasinutilismo  co...\n",
       "6                             minha pressao ta caindo mais que a paulinha do...\n",
       "7                             @giupanaro @ehdaora vc nao ta mto longe disso,...\n",
       "8                             rt @tiobooboodepre: ja teve quarto branco. con...\n",
       "9                             deusa abençoe o guaraná gelado com uma rodela ...\n",
       "10                            acabei de colocar guaraná, café, energético e ...\n",
       "11                            rt @kmeirelles21: ela pensou que era festa e e...\n",
       "12                            o que vale mais um guaraná fruki ou a minha vida?\n",
       "13                            @emy_wiki não é refrigerante, é tipo um refres...\n",
       "14                            @victor_guarana @ehdaora kkkkkkkk tipo de piad...\n",
       "15                                             bom dia alguém me dá eno guaraná\n",
       "16                            o auge eu e a minha irmã pegando as guaraná pr...\n",
       "17                            @_gabrielos só me chamar pro churras e me dar ...\n",
       "18                            dormi só 4h essa noite... só esse meio litro d...\n",
       "19                            guaraná coroa melhor guaraná quem discorda é c...\n",
       "20                            meu sonho de princesa é levar o boy pra experi...\n",
       "21                                                refri de guarana é bom demais\n",
       "22                            [9/3 22:36] maninha: encomendei 1200 salgados ...\n",
       "23                            como que eu vou parar de tomar refri se guaran...\n",
       "24                            rt @chelseadepre: hoje vai ter uma festa\\n\\nbo...\n",
       "25                            minha folga vou rodar aquele centro atrás de p...\n",
       "26                            é o meu aniversário bolo guarana muito doce pr...\n",
       "27                            @ellenbarcelloss opaaaaaaa, então fechou, leva...\n",
       "28                            meu pai mandou 4 garrafas de guaraná jesus, co...\n",
       "29                            hoje do nda me deu uma vontade súbita de guara...\n",
       "                                                    ...                        \n",
       "122                                           macarrão + guaraná = tudo pra mim\n",
       "123                           gnt o angelo n se valoriza tava ligando pro bo...\n",
       "124                           @isa_barbosas15 sério??? ah, o guaraná tbm n f...\n",
       "125                           @aidenj0estar tipo minha tia que chama até águ...\n",
       "126                           tá certo que eu prefiro guaraná mas eu to bebe...\n",
       "127                           @ana_coment @stitchesns @luagess @thelminha_as...\n",
       "128                                     @hastadlol e a bebida, vai ser guaraná?\n",
       "129                           @icaroanalises nescau \\nguaraná \\njá fui mais ...\n",
       "130                           eu acho que zlatan ibrahimović foi a única pes...\n",
       "131                           \"existem pessoas que amam guaraná eu por exemp...\n",
       "132                           @moreiranatalia_ falei pra xande a vontade que...\n",
       "133                           amanhã vou gastar todo meu dinheiro com drogas...\n",
       "134                           projeto #bemestar a vencetex apoia! #equipe #g...\n",
       "135                           @quiel027 @obqdc me falta o capital kkkkkkkkkk...\n",
       "136                           ypióca guaraná patrocina essa galera pra mais ...\n",
       "137                                  eu topo dividir um guarana na praça brasil\n",
       "138                           amanhã vou trabalhar só o pito. vou botar pó d...\n",
       "139                           até agora sem acreditar que no rio eles adoçam...\n",
       "140                           esse guaraná quente deve da uma sede... https:...\n",
       "141                                  @starkov_alina sigo com meu bolo e guaraná\n",
       "142                           eu sei q todo mundo acha mas ninguém tem corag...\n",
       "143                           @mavivalenza guaraná em pó, é bom, mas se vc t...\n",
       "144                           nois bebe eh guaraná nois bebe eh guaraná cach...\n",
       "145                           meu sonho de princesa é levar o boy pra experi...\n",
       "146                           @marcosquezado1 opa! programão, ein?! vou acom...\n",
       "147                           rt @crvgdanni: pó de guaraná e amendoim, hoje ...\n",
       "148                           rt @mhventura77: @myynfreiitas voltava do cair...\n",
       "Probabilidade Irrelevância    [8.139443732748862e-20, 5.070026939618346e-69,...\n",
       "Probabilidade Relevância      [3.739428423065613e-20, 2.329275005297488e-69,...\n",
       "Classificação                 [2, 2, 2, 2, 2, 2, 2, 2, 2, 2, 2, 2, 2, 2, 2, ...\n",
       "Name: Teste, Length: 152, dtype: object"
      ]
     },
     "execution_count": 79,
     "metadata": {},
     "output_type": "execute_result"
    }
   ],
   "source": [
    "lista_relevancia=[]\n",
    "lista_irrelevancia=[]\n",
    "classificacao=[]\n",
    "d=6096 #número total de palavras diferentes em ambas as séries\n",
    "\n",
    "\n",
    "for tweet in tweets_teste:\n",
    "    i=0\n",
    "    k=0\n",
    "    alfa= 1\n",
    "    probTweetI= 1\n",
    "    probTweetR=1\n",
    "    tweet_limpo= limpeza(tweet)\n",
    "    palavras= tweet_limpo.split()\n",
    "    \n",
    "    for palavra in palavras:\n",
    "    #calculando a prob do tweet ser irrelevante\n",
    "        if palavra in serie_irrel:\n",
    "            probTweetI*= (freq_irrel[palavra] +alfa)/(d +somaI)\n",
    "        if palavra not in serie_irrel:\n",
    "            probTweetI*=1/d\n",
    "    #calculando a probabilidade dele ser relevante\n",
    "        if palavra in serie_rel:\n",
    "            probTweetR*= (freq_rel[palavra]+alfa)/(d+ somaR)\n",
    "        if palavra not in serie_rel:\n",
    "            probTweetR*=1/d\n",
    "    \n",
    "    lista_irrelevancia.append(probI*probTweetI)\n",
    "    lista_relevancia.append(probR*probTweetR)\n",
    "\n",
    "    \n",
    "\n",
    "tweets_teste[\"Probabilidade Irrelevância\"]= lista_irrelevancia\n",
    "tweets_teste[\"Probabilidade Relevância\"]= lista_relevancia\n",
    "for i in range(0,149):\n",
    "    if lista_relevancia[i]<lista_irrelevancia[i]:\n",
    "        classificacao.append(\"2\")\n",
    "    else:\n",
    "        classificacao.append(\"1\")\n",
    "tweets_teste[\"Classificação\"]= classificacao\n",
    "\n",
    "tweets_teste\n",
    "\n",
    "\n",
    "\n",
    "\n",
    "\n",
    "    \n",
    "    \n",
    "\n",
    "\n"
   ]
  },
  {
   "cell_type": "code",
   "execution_count": 88,
   "metadata": {},
   "outputs": [],
   "source": [
    "\n",
    "import numpy as np\n",
    "\n",
    "a=probTweetR / probTweetR + probTweetI \n",
    "if a > 0.5:\n",
    "    classificacao.append(\"1\")\n",
    "else:\n",
    "     classificacao.append(\"2\")\n",
    "    \n",
    "    \n",
    "\n",
    "\n",
    "for alpha in np.arange(0,1,0.01):\n",
    "    if  probTweetR >  alpha * probTweetR + probTweetI: \n",
    "         classificacao.append(\"1\")\n",
    "    else:\n",
    "         classificacao.append(\"2\") \n",
    "        \n",
    "        \n",
    "    \n",
    "   \n",
    "\n"
   ]
  },
  {
   "cell_type": "code",
   "execution_count": 87,
   "metadata": {},
   "outputs": [
    {
     "ename": "ValueError",
     "evalue": "Length of values does not match length of index",
     "output_type": "error",
     "traceback": [
      "\u001b[1;31m---------------------------------------------------------------------------\u001b[0m",
      "\u001b[1;31mValueError\u001b[0m                                Traceback (most recent call last)",
      "\u001b[1;32m<ipython-input-87-816c651e99ba>\u001b[0m in \u001b[0;36m<module>\u001b[1;34m\u001b[0m\n\u001b[0;32m      1\u001b[0m \u001b[0mtweetsteste\u001b[0m\u001b[1;33m[\u001b[0m\u001b[1;34m\"irrelevancia\"\u001b[0m\u001b[1;33m]\u001b[0m\u001b[1;33m=\u001b[0m \u001b[0mlista_irrelevancia\u001b[0m\u001b[1;33m\u001b[0m\u001b[1;33m\u001b[0m\u001b[0m\n\u001b[0;32m      2\u001b[0m \u001b[0mtweetsteste\u001b[0m\u001b[1;33m[\u001b[0m\u001b[1;34m\"relevante\"\u001b[0m\u001b[1;33m]\u001b[0m\u001b[1;33m=\u001b[0m \u001b[0mlista_relevancia\u001b[0m\u001b[1;33m\u001b[0m\u001b[1;33m\u001b[0m\u001b[0m\n\u001b[1;32m----> 3\u001b[1;33m \u001b[0mtweetsteste\u001b[0m\u001b[1;33m[\u001b[0m\u001b[1;34m\"classificacao_comp\"\u001b[0m\u001b[1;33m]\u001b[0m\u001b[1;33m=\u001b[0m \u001b[0mclassificacao\u001b[0m\u001b[1;33m\u001b[0m\u001b[1;33m\u001b[0m\u001b[0m\n\u001b[0m\u001b[0;32m      4\u001b[0m \u001b[1;33m\u001b[0m\u001b[0m\n\u001b[0;32m      5\u001b[0m \u001b[0mtweetsteste\u001b[0m\u001b[1;33m.\u001b[0m\u001b[0mhead\u001b[0m\u001b[1;33m(\u001b[0m\u001b[1;33m)\u001b[0m\u001b[1;33m\u001b[0m\u001b[1;33m\u001b[0m\u001b[0m\n",
      "\u001b[1;32m~\\Anaconda3\\lib\\site-packages\\pandas\\core\\frame.py\u001b[0m in \u001b[0;36m__setitem__\u001b[1;34m(self, key, value)\u001b[0m\n\u001b[0;32m   3368\u001b[0m         \u001b[1;32melse\u001b[0m\u001b[1;33m:\u001b[0m\u001b[1;33m\u001b[0m\u001b[1;33m\u001b[0m\u001b[0m\n\u001b[0;32m   3369\u001b[0m             \u001b[1;31m# set column\u001b[0m\u001b[1;33m\u001b[0m\u001b[1;33m\u001b[0m\u001b[1;33m\u001b[0m\u001b[0m\n\u001b[1;32m-> 3370\u001b[1;33m             \u001b[0mself\u001b[0m\u001b[1;33m.\u001b[0m\u001b[0m_set_item\u001b[0m\u001b[1;33m(\u001b[0m\u001b[0mkey\u001b[0m\u001b[1;33m,\u001b[0m \u001b[0mvalue\u001b[0m\u001b[1;33m)\u001b[0m\u001b[1;33m\u001b[0m\u001b[1;33m\u001b[0m\u001b[0m\n\u001b[0m\u001b[0;32m   3371\u001b[0m \u001b[1;33m\u001b[0m\u001b[0m\n\u001b[0;32m   3372\u001b[0m     \u001b[1;32mdef\u001b[0m \u001b[0m_setitem_slice\u001b[0m\u001b[1;33m(\u001b[0m\u001b[0mself\u001b[0m\u001b[1;33m,\u001b[0m \u001b[0mkey\u001b[0m\u001b[1;33m,\u001b[0m \u001b[0mvalue\u001b[0m\u001b[1;33m)\u001b[0m\u001b[1;33m:\u001b[0m\u001b[1;33m\u001b[0m\u001b[1;33m\u001b[0m\u001b[0m\n",
      "\u001b[1;32m~\\Anaconda3\\lib\\site-packages\\pandas\\core\\frame.py\u001b[0m in \u001b[0;36m_set_item\u001b[1;34m(self, key, value)\u001b[0m\n\u001b[0;32m   3443\u001b[0m \u001b[1;33m\u001b[0m\u001b[0m\n\u001b[0;32m   3444\u001b[0m         \u001b[0mself\u001b[0m\u001b[1;33m.\u001b[0m\u001b[0m_ensure_valid_index\u001b[0m\u001b[1;33m(\u001b[0m\u001b[0mvalue\u001b[0m\u001b[1;33m)\u001b[0m\u001b[1;33m\u001b[0m\u001b[1;33m\u001b[0m\u001b[0m\n\u001b[1;32m-> 3445\u001b[1;33m         \u001b[0mvalue\u001b[0m \u001b[1;33m=\u001b[0m \u001b[0mself\u001b[0m\u001b[1;33m.\u001b[0m\u001b[0m_sanitize_column\u001b[0m\u001b[1;33m(\u001b[0m\u001b[0mkey\u001b[0m\u001b[1;33m,\u001b[0m \u001b[0mvalue\u001b[0m\u001b[1;33m)\u001b[0m\u001b[1;33m\u001b[0m\u001b[1;33m\u001b[0m\u001b[0m\n\u001b[0m\u001b[0;32m   3446\u001b[0m         \u001b[0mNDFrame\u001b[0m\u001b[1;33m.\u001b[0m\u001b[0m_set_item\u001b[0m\u001b[1;33m(\u001b[0m\u001b[0mself\u001b[0m\u001b[1;33m,\u001b[0m \u001b[0mkey\u001b[0m\u001b[1;33m,\u001b[0m \u001b[0mvalue\u001b[0m\u001b[1;33m)\u001b[0m\u001b[1;33m\u001b[0m\u001b[1;33m\u001b[0m\u001b[0m\n\u001b[0;32m   3447\u001b[0m \u001b[1;33m\u001b[0m\u001b[0m\n",
      "\u001b[1;32m~\\Anaconda3\\lib\\site-packages\\pandas\\core\\frame.py\u001b[0m in \u001b[0;36m_sanitize_column\u001b[1;34m(self, key, value, broadcast)\u001b[0m\n\u001b[0;32m   3628\u001b[0m \u001b[1;33m\u001b[0m\u001b[0m\n\u001b[0;32m   3629\u001b[0m             \u001b[1;31m# turn me into an ndarray\u001b[0m\u001b[1;33m\u001b[0m\u001b[1;33m\u001b[0m\u001b[1;33m\u001b[0m\u001b[0m\n\u001b[1;32m-> 3630\u001b[1;33m             \u001b[0mvalue\u001b[0m \u001b[1;33m=\u001b[0m \u001b[0msanitize_index\u001b[0m\u001b[1;33m(\u001b[0m\u001b[0mvalue\u001b[0m\u001b[1;33m,\u001b[0m \u001b[0mself\u001b[0m\u001b[1;33m.\u001b[0m\u001b[0mindex\u001b[0m\u001b[1;33m,\u001b[0m \u001b[0mcopy\u001b[0m\u001b[1;33m=\u001b[0m\u001b[1;32mFalse\u001b[0m\u001b[1;33m)\u001b[0m\u001b[1;33m\u001b[0m\u001b[1;33m\u001b[0m\u001b[0m\n\u001b[0m\u001b[0;32m   3631\u001b[0m             \u001b[1;32mif\u001b[0m \u001b[1;32mnot\u001b[0m \u001b[0misinstance\u001b[0m\u001b[1;33m(\u001b[0m\u001b[0mvalue\u001b[0m\u001b[1;33m,\u001b[0m \u001b[1;33m(\u001b[0m\u001b[0mnp\u001b[0m\u001b[1;33m.\u001b[0m\u001b[0mndarray\u001b[0m\u001b[1;33m,\u001b[0m \u001b[0mIndex\u001b[0m\u001b[1;33m)\u001b[0m\u001b[1;33m)\u001b[0m\u001b[1;33m:\u001b[0m\u001b[1;33m\u001b[0m\u001b[1;33m\u001b[0m\u001b[0m\n\u001b[0;32m   3632\u001b[0m                 \u001b[1;32mif\u001b[0m \u001b[0misinstance\u001b[0m\u001b[1;33m(\u001b[0m\u001b[0mvalue\u001b[0m\u001b[1;33m,\u001b[0m \u001b[0mlist\u001b[0m\u001b[1;33m)\u001b[0m \u001b[1;32mand\u001b[0m \u001b[0mlen\u001b[0m\u001b[1;33m(\u001b[0m\u001b[0mvalue\u001b[0m\u001b[1;33m)\u001b[0m \u001b[1;33m>\u001b[0m \u001b[1;36m0\u001b[0m\u001b[1;33m:\u001b[0m\u001b[1;33m\u001b[0m\u001b[1;33m\u001b[0m\u001b[0m\n",
      "\u001b[1;32m~\\Anaconda3\\lib\\site-packages\\pandas\\core\\internals\\construction.py\u001b[0m in \u001b[0;36msanitize_index\u001b[1;34m(data, index, copy)\u001b[0m\n\u001b[0;32m    517\u001b[0m \u001b[1;33m\u001b[0m\u001b[0m\n\u001b[0;32m    518\u001b[0m     \u001b[1;32mif\u001b[0m \u001b[0mlen\u001b[0m\u001b[1;33m(\u001b[0m\u001b[0mdata\u001b[0m\u001b[1;33m)\u001b[0m \u001b[1;33m!=\u001b[0m \u001b[0mlen\u001b[0m\u001b[1;33m(\u001b[0m\u001b[0mindex\u001b[0m\u001b[1;33m)\u001b[0m\u001b[1;33m:\u001b[0m\u001b[1;33m\u001b[0m\u001b[1;33m\u001b[0m\u001b[0m\n\u001b[1;32m--> 519\u001b[1;33m         \u001b[1;32mraise\u001b[0m \u001b[0mValueError\u001b[0m\u001b[1;33m(\u001b[0m\u001b[1;34m'Length of values does not match length of index'\u001b[0m\u001b[1;33m)\u001b[0m\u001b[1;33m\u001b[0m\u001b[1;33m\u001b[0m\u001b[0m\n\u001b[0m\u001b[0;32m    520\u001b[0m \u001b[1;33m\u001b[0m\u001b[0m\n\u001b[0;32m    521\u001b[0m     \u001b[1;32mif\u001b[0m \u001b[0misinstance\u001b[0m\u001b[1;33m(\u001b[0m\u001b[0mdata\u001b[0m\u001b[1;33m,\u001b[0m \u001b[0mABCIndexClass\u001b[0m\u001b[1;33m)\u001b[0m \u001b[1;32mand\u001b[0m \u001b[1;32mnot\u001b[0m \u001b[0mcopy\u001b[0m\u001b[1;33m:\u001b[0m\u001b[1;33m\u001b[0m\u001b[1;33m\u001b[0m\u001b[0m\n",
      "\u001b[1;31mValueError\u001b[0m: Length of values does not match length of index"
     ]
    }
   ],
   "source": [
    "tweetsteste[\"irrelevancia\"]= lista_irrelevancia\n",
    "tweetsteste[\"relevante\"]= lista_relevancia\n",
    "tweetsteste[\"classificacao_comp\"]= classificacao\n",
    "\n",
    "tweetsteste.head()\n",
    "\n"
   ]
  },
  {
   "cell_type": "code",
   "execution_count": null,
   "metadata": {},
   "outputs": [],
   "source": [
    "\n",
    "                "
   ]
  },
  {
   "cell_type": "code",
   "execution_count": null,
   "metadata": {},
   "outputs": [],
   "source": [
    "\n",
    "  "
   ]
  },
  {
   "cell_type": "code",
   "execution_count": null,
   "metadata": {},
   "outputs": [],
   "source": []
  },
  {
   "cell_type": "markdown",
   "metadata": {},
   "source": [
    "___\n",
    "### Concluindo"
   ]
  },
  {
   "cell_type": "code",
   "execution_count": null,
   "metadata": {},
   "outputs": [],
   "source": []
  },
  {
   "cell_type": "code",
   "execution_count": null,
   "metadata": {},
   "outputs": [],
   "source": []
  },
  {
   "cell_type": "markdown",
   "metadata": {},
   "source": [
    "___\n",
    "## Aperfeiçoamento:\n",
    "\n",
    "Os trabalhos vão evoluir em conceito dependendo da quantidade de itens avançados:\n",
    "\n",
    "* Limpar: \\n, :, \", ', (, ), etc SEM remover emojis\n",
    "* Corrigir separação de espaços entre palavras e emojis ou entre emojis e emojis\n",
    "* Propor outras limpezas e transformações que não afetem a qualidade da informação ou classificação\n",
    "* Criar categorias intermediárias de relevância baseadas na probabilidade: ex.: muito relevante, relevante, neutro, irrelevante, muito irrelevante (3 categorias: C, mais categorias conta para B)\n",
    "* Explicar por que não posso usar o próprio classificador para gerar mais amostras de treinamento\n",
    "* Propor diferentes cenários para Naïve Bayes fora do contexto do projeto\n",
    "* Sugerir e explicar melhorias reais com indicações concretas de como implementar (indicar como fazer e indicar material de pesquisa)\n",
    "* Montar um dashboard que periodicamente realiza análise de sentimento e visualiza estes dados"
   ]
  },
  {
   "cell_type": "markdown",
   "metadata": {},
   "source": [
    "___\n",
    "## Referências"
   ]
  },
  {
   "cell_type": "markdown",
   "metadata": {},
   "source": [
    "[Naive Bayes and Text Classification](https://arxiv.org/pdf/1410.5329.pdf)  **Mais completo**\n",
    "\n",
    "[A practical explanation of a Naive Bayes Classifier](https://monkeylearn.com/blog/practical-explanation-naive-bayes-classifier/) **Mais simples**"
   ]
  },
  {
   "cell_type": "code",
   "execution_count": null,
   "metadata": {},
   "outputs": [],
   "source": []
  }
 ],
 "metadata": {
  "kernelspec": {
   "display_name": "Python 3",
   "language": "python",
   "name": "python3"
  },
  "language_info": {
   "codemirror_mode": {
    "name": "ipython",
    "version": 3
   },
   "file_extension": ".py",
   "mimetype": "text/x-python",
   "name": "python",
   "nbconvert_exporter": "python",
   "pygments_lexer": "ipython3",
   "version": "3.7.3"
  }
 },
 "nbformat": 4,
 "nbformat_minor": 4
}
