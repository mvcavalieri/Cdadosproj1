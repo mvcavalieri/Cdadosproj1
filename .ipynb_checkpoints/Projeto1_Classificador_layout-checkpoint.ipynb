{
 "cells": [
  {
   "cell_type": "markdown",
   "metadata": {},
   "source": [
    "# Projeto 1 - Ciência dos Dados"
   ]
  },
  {
   "cell_type": "markdown",
   "metadata": {},
   "source": [
    "Nome:Laura Perim\n",
    "\n",
    "Nome: Maria Victoria Cavalieri"
   ]
  },
  {
   "cell_type": "markdown",
   "metadata": {},
   "source": [
    "Atenção: Serão permitidos grupos de três pessoas, mas com uma rubrica mais exigente. Grupos deste tamanho precisarão fazer um questionário de avaliação de trabalho em equipe"
   ]
  },
  {
   "cell_type": "markdown",
   "metadata": {},
   "source": [
    "___\n",
    "Carregando algumas bibliotecas:"
   ]
  },
  {
   "cell_type": "code",
   "execution_count": 1,
   "metadata": {},
   "outputs": [],
   "source": [
    "%matplotlib inline\n",
    "import pandas as pd\n",
    "import matplotlib.pyplot as plt\n",
    "import numpy as np\n",
    "import os"
   ]
  },
  {
   "cell_type": "code",
   "execution_count": 2,
   "metadata": {
    "scrolled": false
   },
   "outputs": [
    {
     "name": "stdout",
     "output_type": "stream",
     "text": [
      "Esperamos trabalhar no diretório\n",
      "C:\\Users\\laura\\Documents\\2 semestre\\Cdadosproj1\n"
     ]
    }
   ],
   "source": [
    "print('Esperamos trabalhar no diretório')\n",
    "print(os.getcwd())"
   ]
  },
  {
   "cell_type": "markdown",
   "metadata": {},
   "source": [
    "Carregando a base de dados com os tweets classificados como relevantes e não relevantes:"
   ]
  },
  {
   "cell_type": "code",
   "execution_count": 3,
   "metadata": {},
   "outputs": [],
   "source": [
    "tweets= pd.read_excel('guarana.xlsx')"
   ]
  },
  {
   "cell_type": "markdown",
   "metadata": {},
   "source": [
    "___\n",
    "## Classificador automático de sentimento\n"
   ]
  },
  {
   "cell_type": "markdown",
   "metadata": {},
   "source": [
    "Faça aqui uma descrição do seu produto e o que considerou como relevante ou não relevante na classificação dos tweets.\n",
    "\n",
    "Guaraná é um refrigerante popular no Brasil. Consideramos relevantes os tweets que faziam referência a qualidade do produto, tweets que diziam que o consumidor gosta/quer o produto, comparações com outros refrigerantes ou características marcantes do produto, como manter o consumidor acordado."
   ]
  },
  {
   "cell_type": "markdown",
   "metadata": {},
   "source": [
    "___\n",
    "### Montando um Classificador Naive-Bayes\n",
    "\n",
    "Considerando apenas as mensagens da planilha Treinamento, ensine  seu classificador."
   ]
  },
  {
   "cell_type": "code",
   "execution_count": 8,
   "metadata": {},
   "outputs": [
    {
     "data": {
      "text/html": [
       "<div>\n",
       "<style scoped>\n",
       "    .dataframe tbody tr th:only-of-type {\n",
       "        vertical-align: middle;\n",
       "    }\n",
       "\n",
       "    .dataframe tbody tr th {\n",
       "        vertical-align: top;\n",
       "    }\n",
       "\n",
       "    .dataframe thead th {\n",
       "        text-align: right;\n",
       "    }\n",
       "</style>\n",
       "<table border=\"1\" class=\"dataframe\">\n",
       "  <thead>\n",
       "    <tr style=\"text-align: right;\">\n",
       "      <th></th>\n",
       "      <th>Treinamento</th>\n",
       "      <th>classificacao</th>\n",
       "    </tr>\n",
       "  </thead>\n",
       "  <tbody>\n",
       "    <tr>\n",
       "      <th>0</th>\n",
       "      <td>tomei cápsula de guaraná, café e agora comprei...</td>\n",
       "      <td>Irrelevante</td>\n",
       "    </tr>\n",
       "    <tr>\n",
       "      <th>1</th>\n",
       "      <td>eu e bruno 2 viciados em guaraná</td>\n",
       "      <td>Relevante</td>\n",
       "    </tr>\n",
       "    <tr>\n",
       "      <th>2</th>\n",
       "      <td>informações inúteis sobre mim:\\n\\naltura - não...</td>\n",
       "      <td>Relevante</td>\n",
       "    </tr>\n",
       "    <tr>\n",
       "      <th>3</th>\n",
       "      <td>comendo aquela tapioca com guaraná do amazonas...</td>\n",
       "      <td>Irrelevante</td>\n",
       "    </tr>\n",
       "    <tr>\n",
       "      <th>4</th>\n",
       "      <td>@urryoonert guaraná aqui não é refrigerante, t...</td>\n",
       "      <td>Relevante</td>\n",
       "    </tr>\n",
       "  </tbody>\n",
       "</table>\n",
       "</div>"
      ],
      "text/plain": [
       "                                         Treinamento classificacao\n",
       "0  tomei cápsula de guaraná, café e agora comprei...   Irrelevante\n",
       "1                   eu e bruno 2 viciados em guaraná     Relevante\n",
       "2  informações inúteis sobre mim:\\n\\naltura - não...     Relevante\n",
       "3  comendo aquela tapioca com guaraná do amazonas...   Irrelevante\n",
       "4  @urryoonert guaraná aqui não é refrigerante, t...     Relevante"
      ]
     },
     "execution_count": 8,
     "metadata": {},
     "output_type": "execute_result"
    }
   ],
   "source": [
    "tweets.head()"
   ]
  },
  {
   "cell_type": "code",
   "execution_count": 82,
   "metadata": {},
   "outputs": [
    {
     "name": "stdout",
     "output_type": "stream",
     "text": [
      "                                           Treinamento classificacao\n",
      "0    tomei cápsula de guaraná, café e agora comprei...   Irrelevante\n",
      "1                     eu e bruno 2 viciados em guaraná     Relevante\n",
      "2    informações inúteis sobre mim:\\n\\naltura - não...     Relevante\n",
      "3    comendo aquela tapioca com guaraná do amazonas...   Irrelevante\n",
      "4    @urryoonert guaraná aqui não é refrigerante, t...     Relevante\n",
      "5    comi um cachorro quente tão bom agr pqp queria...   Irrelevante\n",
      "6    @soulthatblooms guaraná em pó me lembra de um ...   Irrelevante\n",
      "7    tempo que eu não sei oq é festa cm bolo e guar...     Relevante\n",
      "8    @marcosquezado1 opa! programão, ein?! vou acom...     Relevante\n",
      "9    queria muito um estrogonofe de camarão e um gu...     Relevante\n",
      "10   rt @lacristina__: so trocar por coca ou guaraná 👍     Relevante\n",
      "11   pensou em sabor ? #grquentinhas é qualidade e ...   Irrelevante\n",
      "12   strogonoff com batata palha e guaraná tudo pra...     Relevante\n",
      "13            vou tomar um copo de guaraná e vou dormi     Relevante\n",
      "14   rt @vitoriafelix__: quem é q come doce com gua...   Irrelevante\n",
      "15   caralho! como eu queria saber o contexto disso...   Irrelevante\n",
      "16   @nighttele nao falei amore, pra evitar conflit...   Irrelevante\n",
      "17   @francofrito mds... tu é a segunda pessoa que ...   Irrelevante\n",
      "18   coisas que combinam:\\n\\npizza + guaraná\\npipoc...     Relevante\n",
      "19   aqui em casa poder ter guarana n eu bebo toda ...     Relevante\n",
      "20   eu to com desejo de tomar dolly guaraná pode i...     Relevante\n",
      "21   @hazukiyoumi dog na chapa estaçao ac 8 reais +...     Relevante\n",
      "22   comprei um refrizinho p toma com minha janta q...   Irrelevante\n",
      "23         alguem me da um guarana geladinho pod favir     Relevante\n",
      "24   a mina aqui no trampo tá comendo um salgado e ...   Irrelevante\n",
      "25   renan perguntou se eu peguei guaraná falei que...   Irrelevante\n",
      "26                    suco de guaraná é tudo de bom ne     Relevante\n",
      "27   @jenipatzlaff mano sim kkkkk parece guaraná qu...   Irrelevante\n",
      "28   rt @werleeylima: a vida é loka msm há uns anos...   Irrelevante\n",
      "29   pó de guaraná e amendoim, hoje eu tô afim de c...     Relevante\n",
      "..                                                 ...           ...\n",
      "319                      precisava de um guaraná agora     Relevante\n",
      "320  @garciasales @vittorguidoni me lembra um pouco...   Irrelevante\n",
      "321  pegar esse \"bolinho e guaraná\" da vivian seman...   Irrelevante\n",
      "322  @starbockys hoje \\nvai ser \\numa festa\\nbolo e...   Irrelevante\n",
      "323  eu: filho quer suco?\\nele: não mãe, \"anuna\". (...   Irrelevante\n",
      "324  tava tomando guaraná e não tava matando a minh...   Irrelevante\n",
      "325  @linharesjnr @redemassa siiim.... as vezes usa...   Irrelevante\n",
      "326  tomo guarana, suco de caju, goiabada para sobr...   Irrelevante\n",
      "327  @guarana para de apoiar rodeio pra eu poder te...   Irrelevante\n",
      "328  pensou em sabor ? #grquentinhas é qualidade e ...   Irrelevante\n",
      "329  @vola_volare vou fazer guaraná com jabuticaba....   Irrelevante\n",
      "330  aquele pós almoço acompanhado de guaraná, gelo...   Irrelevante\n",
      "331  rt @ferjhon33: “tá bebendo guaraná e tá pegand...   Irrelevante\n",
      "332  @icaroanalises toddy\\nguaraná\\nmarvel\\nde bruy...   Irrelevante\n",
      "333  @emanoel_bitt eu odeio qnd ei leio guarána\\nlo...   Irrelevante\n",
      "334  @_p4zz só um eno guaraná depois kkk https://t....   Irrelevante\n",
      "335             @loveygmin não tem, só guaraná mesmo 😞   Irrelevante\n",
      "336  rt @jao4444: as criança na the choice embrasan...   Irrelevante\n",
      "337  rt @vitoriafelix__: quem é q come doce com gua...   Irrelevante\n",
      "338  a belle pediu p moça da padaria guarda o guara...   Irrelevante\n",
      "339            @guarana os dois tem a mesma quantidade   Irrelevante\n",
      "340  guardei um gole do guarana que eu comprei pra ...   Irrelevante\n",
      "341                   @_fefob e meu café e meu guaraná     Relevante\n",
      "342  td q eu queria agora era um hambúrguer da bk e...     Relevante\n",
      "343  olha só peguei minha folga na quinta pelo gren...   Irrelevante\n",
      "344  @claeruh parece o billy de st, é escroto e faz...   Irrelevante\n",
      "345  tava com vinte conto e tava só a felicidade, f...     Relevante\n",
      "346  botei meu guaraná no freezer e quase esqueço d...   Irrelevante\n",
      "347  e a vitoria que comeu bisnaga cm doritos enqnt...   Irrelevante\n",
      "348  [09/03/2020 23:36:47] kai: strogonoff\\n [09/03...   Irrelevante\n",
      "\n",
      "[349 rows x 2 columns]\n"
     ]
    },
    {
     "data": {
      "text/plain": [
       "'tomei cápsula de guaraná  café e agora comprei outra parada pra dar energia  o cansaço meu pai   '"
      ]
     },
     "execution_count": 82,
     "metadata": {},
     "output_type": "execute_result"
    }
   ],
   "source": [
    "tweets.loc[:,'classificacao'] = tweets['classificacao'].astype('category')\n",
    "tweets.classificacao.cat.categories = ['Relevante', 'Irrelevante']\n",
    "print(tweets)\n",
    "import re \n",
    "def limpeza(dados):\n",
    "    #import string\n",
    "    punctuation = '[!-.:?;]' # Note que os sinais [] são delimitadores de um conjunto.\n",
    "    pattern = re.compile(punctuation)\n",
    "    text_subbed = re.sub(pattern, ' ', dados)\n",
    "    return text_subbed\n",
    "limpeza(tweets['Treinamento'][0])\n",
    "\n"
   ]
  },
  {
   "cell_type": "code",
   "execution_count": 83,
   "metadata": {},
   "outputs": [],
   "source": [
    "relevante_col=tweets[tweets['classificacao']=='Relevante']['Treinamento'] #ler o texto de apenas os tweets classificados como relevantes"
   ]
  },
  {
   "cell_type": "code",
   "execution_count": 84,
   "metadata": {},
   "outputs": [],
   "source": [
    "relevante_txt= \" \".join(relevante_col) # arrumando para forma de texto com espacos entre as palavras"
   ]
  },
  {
   "cell_type": "code",
   "execution_count": 91,
   "metadata": {},
   "outputs": [
    {
     "data": {
      "text/plain": [
       "'eu e bruno 2 viciados em guaraná informações inúteis sobre mim \\n\\naltura   não sei\\ntamanho do pé   37\\ntatuagens   0\\npiercing   0\\ncor fav   azul/preto/roxo\\nfilme fav   no momento capitão fantástico\\nsérie fav   stranger things\\ncomida fav   strogonoff/pizza\\nbebida fav   guaraná https //t co/kqcleotkxg @urryoonert guaraná aqui não é refrigerante  tá mais para um refresco com muuuuuito açúcar kkk tempo que eu não sei oq é festa cm bolo e guaraná  vagabundo só quer sabe de brahma e voodk cm energético ainda surgi a ousadia fudeu @marcosquezado1 opa  programão  ein   vou acompanhar com pipoca e guaraná  mas esses militontos tem mudado de placa e cores    mesmo q extintos  o eleitor tem que aprender a escolher  e a apuração dos votos tem que ser idônea  queria muito um estrogonofe de camarão e um guaraná antártica bem gelado   deus prfvr tenha piedade de mim rt @lacristina__  so trocar por coca ou guaraná 👍 strogonoff com batata palha e guaraná tudo pra mim vou tomar um copo de guaraná e vou dormi coisas que combinam \\n\\npizza   guaraná\\npipoca   refrigerante\\nhambúrguer   batata frita\\neu   você comendo tudo isso bb\\n\\nvai perder essa oportunidade  aqui em casa poder ter guarana n eu bebo toda hora mais agua q e bom nadaaaa eu to com desejo de tomar dolly guaraná pode isso     @hazukiyoumi dog na chapa estaçao ac 8 reais   guarana em lata te amo alguem me da um guarana geladinho pod favir suco de guaraná é tudo de bom ne pó de guaraná e amendoim  hoje eu tô afim de caprichar fui tomar pó de guaraná achando que tinha gosto de tang  quando fui ver era só a terra bom dia pessoal  hoje eu substitui uma xícara de café por uma colher de pó de guaraná  \\n\\n10 minutos atrás eu tava morrendo com uma pequena aceleração  \\n\\n1º dia de pó de guaraná e zero sonos  \\nacompanhem o diário rt @sulcideluk  charrua melhor guaraná quem discorda tá errado rt @brvmxs  10  40 da manha  acordar  tomar um café da manhã saudável com um guaraná e depois jogar uma aramzinha c meu amor  ahaaaaam aquele guaraná em pó pra levantar a moral só bolinha de queijo  guaraná e chocolate pra me fazer feliz hj    lá vou eu gastar dinheiro na facul eu queria meu guaraná jesus e o esaú n guardou nada pra mim\\neu fiquei muito triste https //t co/1iwjfs581i @btsfeel hoje vai ser uma festa\\nbola e guaraná muito doce pra comer\\n\\nfeliz aniversário anjinho   \\nhttps //t co/mg4kmkotxs matei minha vontade de comer estrogonofe com copao de guaraná antártica @favoriteany é feito de guaraná mas não é refrigerante  tá mais para um refresco com muuuuuito açúcar charrua melhor guaraná quem discorda tá errado que guarana ruim é esse kuat gosto de remédio purinho  ainda me sobra varios dele    😣🤮 a segunda feira já foi quase todo volume de trabalho concentrado num dia só  hoje eu já acordei tomando meu shot de limão adicionado de guaraná em pó e catei a cápsula mais forte de café que já passou por essa casa  agora só falta um guindaste me levantar porque tá foda    guarana friburgo esta no meu top 3 de refrigerantes tudo que eu queria era aquele guaraná do amazonas que vende no bonarabe @jasrwgers itiiiiiiiiijehehehejejeje oh meu deus a irmã te ama demais  traz bolo sim  vamos comer muito bolo e guaraná parei de tomar refri há mais de um ano  pq eu quis  e o sabor que eu mais sinto falta é o guaraná  mas agora lançaram o natu e eu preciso experimentar rt @rubinhoffc  guaraná kuat não é refrigerante  é remédio queria tomar uns 2 litros de guaraná jesus agr tlgd n sei se eu to adaptado ou se meu corpo ta mais resistente  to tomando café e logo em seguido to bebendo guaraná pra da energia e n adianta em porra nenhuma  @littlesacra trás guaraná jesus pa nós amanhã vou gastar todo meu dinheiro com drogas  das mais pesadas  sem dó nem piedade  bolo de chocolate  guaraná da amazônia  milkshake  sunday vo ficar lokona @piiece_of_peace @agustdvv açaí de banana e guarana eu gosto  mas me enjoa rápido pq fica mt doce pra mim\\neu gosto de morango ou maracuja que aí eu posso encher de complementos e não enjoa nunca ♥ @hastadlol ja bebeu seu guarana hj  @mltbysungg @melhortutorial bebi umas 4 lata de guarana seguida  to e m b r e a g a d o eu te amo  guaraná antarctica ontem n fui dormir mt bem e hoje tb n acordei legal    09h da manhã eu comendo bolinho de queijo e mistinho cheio de ketchup c um guaraná bem geladinho  agora m sinto preparada p qualquer tombo da vida minha chefe manda eu ir assistir treinamento  só pra comer pipoca e tomar guaraná 😂😂😂 melhor não tem ❤️ rt @portellazzz  como que eu vou parar de tomar refri se guaraná antártica é a melhor coisa já criada nesse mundo   tentando estudar sem usar nada pra ficar acordada  mas estou falhando miseravelmente e vamos de energético e pó de guaraná  existem pessoas que amam guaraná eu por exemplo tenho uma tatuagem disso   tatuagem do guaraná  serio   não óbvio que não  eu lembrando que tenho a tatuagem do vinho @carlosfreitaaas quero o guaraná tá certo que eu prefiro guaraná mas eu to bebendo uma coca bem geladinha 🤩 sedenta por um copo de guaraná o acreano q mora fora quando encontra qualquer projeto de açaí que nao tenha gosto de xarope de guaraná nao quer guerra com ninguem acordei estressado  mas fui no mercado e lancei aquele guaraná do bom vontade de comer um italiano quentinho e tomar um refrigerante de guaraná caraca mane  que desejo absurdo que eu to de tomar um guaraná antártica geladin @hastadlol os cara curte guaraná rt @melbruu  se tem uma coisa que eu gosto de beber é guaraná natural pqp 🤤🤤🤤 to viciada em guaraná mix e agora mds      rt @giibatistaa  td q eu queria agora era um hambúrguer da bk e aquele refil de guaraná antárctica mais um gaúcho conhecendo o melhor guaraná que existe 💁🏼\\u200d♀️😅 https //t co/rqrecjptcq eu pago um suquinho de guaraná queria tomar um guaraná da heineken não resisto a um guaraná antártica 😋🤦 quase 5h da manhã e eu c vontade de tomar guaraná 🤦🏻\\u200d♀️ kkkkkkkkkkkk se tem uma coisa que eu gosto de beber é guaraná natural pqp 🤤🤤🤤 @rick_c99 guaraná e melhor tava ha umas semanas sem beber nenhum refri e fui inventar de beber hoje um guaraná  vei não aguentei dar 2 goles que sensação horrível o que eu não daria por um empadão e um guaraná agora a pessoa q come um hambúrguer c cheddar e um guaraná antárctica no café da manhã n quer guerra c ngm a grande rio vem de guaraná mesmo  https //t co/w6cefsjjnf lembrei de um sorvete de guarana q eu comi anteontem nodsa foi a pior coisa q eu ja tomei na minha vida juro thiago comprou um montão de coisa no domingo  já acabou tudo  até o guaraná kkkkkkkkkkkkkkkkkkk q ódio só queria saber onde eu encontro o guaraná antártica 100  natural sou a mulher mais feliz comendo yakissoba e tomando guarana jesus @2xminilyce aa guaraná não é mt bom  mas caso vc não tiver melhor amanhã  se ai onde vc mora tiver chá de boldo ajuda mt guaraná antárctica   óbvio @guarana este é o melhor guaraná do mundo amo🥰🥰🥰 e se eu comesse um hamburgao com guarana agora https //t co/pev1lu3902 rt @potterlov3  queria muito um estrogonofe de camarão e um guaraná antártica bem gelado   deus prfvr tenha piedade de mim a cada 30 min pego um pouco de guaraná jesus q era p fim de semana veja o novo refrigerante da guaraná antarctica sem açúcar e corantes https //t co/y7sujfowch https //t co/3duhazc4yr rt @emilly_uai  é logico que guaraná  é melhor  que coca plmd @gabrielolivf me chama eu levo guarana e po a única vontade é enrolar as duas pizza da nono picoli e comer tomando o guaraná q vem na promo guarana zero de visual novo      estranhei    mas ta lindinha de roupa nova  https //t co/ltlaoxzmyw deus  meu deus  pq eu como 10 coxinhas com guaraná e dps reclamo q to gorda  guaraná antarctica  é melhor que coca cola  queria tomar um suco de guaraná @joosepulveda2 grapette e guaraná coroa juntos é pedir pra morrer @lovesurreax kjkjjkkkk eh guaraná com mais açúcar e melhor acho que não existe ngm mais apaixonada do que eu por convenção guaraná 😋😍❤️ crlh ryan fominha de guaraná eu sei q todo mundo acha mas ninguém tem coragem pra falar     suco de guaraná é bom pakas a última vez que eu tomei café e po de guaraná eu não parava quieta  vamos ver né meu cunhado fez um negócio de açaí com pó de guaraná e estou aqui ligadona e sem sono @rafarosadas eu sou suco de manga/uva e refri sem gas de guaraná  nao fico sem amg\\nnão consigo gostar de agua com gas n vejo sentindoooooo “tia me dá guaraná” 🥰🥰🥰 vontade de um guaraná geladinho puta merda único refrigerante que me dá gatilho é o guaraná garoto q eu não posso ver q meu cerebro fica o próprio meme\\n\\nquelo beber refrigelante tomei uma xicara de café puto de forte e um cp de guaraná extra e to lutando com meus olhos p fica aberto 😥 pepsi  coca cola e guaraná antártica são os melhores refris da vida queria almoçar uma saladinha da estação do guaraná ☹️ rt @candeiakethlyn  guaraná é mt melhor q coca @mavivalenza guaraná em pó  é bom  mas se vc trm problema no coração talvez seja um pouco arriscado melhores bebidas do brasil  guaravita e guaraná jesus e sem choro https //t co/cspq5zyrvs @lukasssid meti 3 burgao com 3 guaraná por 13 50 to feliz demais fi td q eu queria agora era um hambúrguer da bk e aquele refil de guaraná antárctica @babs_costa tô tomando guaraná a uma semana  não fez efeito algum  tem que tomar a cafeína em cápsulas mesmo se gabi levar guaraná jesus pra mim eu vou ser a mulher mais feliz de planície rt @hrmnyj  guaraná antartica é mil vezes melhor q coca  sou do rj e vim dizer que o camp de uva é o melhor guarana https //t co/gmcy2z4atg precisava de um guaraná agora pedi ela pra  comprar suco de açai com guaraná e ela me vem com laranja com mamão a médica  nada de guaraná em mariana \\neu as 5 00 da manhã  quelo gualana gelado tomei uma cápsula de guaraná  espero que me ajude pq to quase falecendo real não aguento mais tomar guaraná 🤮 fanta🤮 kkkkkkkkkkkk ele é demais  desse tamanho viciado guaraná https //t co/vkp6j2sath eu tentando suprir minha vontade de comer açúcar tomando guaraná zero \\n\\nodioooo caralho eu amo guaraná cruzeiro q vontade louca de tomar um refri  um guaraná bem geladinho 🥺🤦\\u200d♀️ quem inventou o guaraná kuat devia tá c mt ódio da população pqp q bag horrível @radcurtain meu deus amo esse guaraná tomei cápsula de guaraná  café e agora comprei outra parada pra dar energia  o cansaço meu pai    precisava de um guaraná agora @_fefob e meu café e meu guaraná td q eu queria agora era um hambúrguer da bk e aquele refil de guaraná antárctica tava com vinte conto e tava só a felicidade  fui pra outra cidade e bati um prato de estrogonofe com uma guaraná de 1l me arrependi e quero meu dinheiro de volta  o estrogonofe tava top mas eu tô pobre 😭😭😭 '"
      ]
     },
     "execution_count": 91,
     "metadata": {},
     "output_type": "execute_result"
    }
   ],
   "source": [
    "relevante_txt_limpo = limpeza(relevante_txt)\n",
    "#limpando o texto com a funcao\n",
    "relevante_txt_limpo"
   ]
  },
  {
   "cell_type": "code",
   "execution_count": 90,
   "metadata": {},
   "outputs": [
    {
     "data": {
      "text/html": [
       "<div>\n",
       "<style scoped>\n",
       "    .dataframe tbody tr th:only-of-type {\n",
       "        vertical-align: middle;\n",
       "    }\n",
       "\n",
       "    .dataframe tbody tr th {\n",
       "        vertical-align: top;\n",
       "    }\n",
       "\n",
       "    .dataframe thead th {\n",
       "        text-align: right;\n",
       "    }\n",
       "</style>\n",
       "<table border=\"1\" class=\"dataframe\">\n",
       "  <thead>\n",
       "    <tr style=\"text-align: right;\">\n",
       "      <th></th>\n",
       "      <th>0</th>\n",
       "    </tr>\n",
       "  </thead>\n",
       "  <tbody>\n",
       "    <tr>\n",
       "      <th>0</th>\n",
       "      <td>eu</td>\n",
       "    </tr>\n",
       "    <tr>\n",
       "      <th>1</th>\n",
       "      <td>e</td>\n",
       "    </tr>\n",
       "    <tr>\n",
       "      <th>2</th>\n",
       "      <td>bruno</td>\n",
       "    </tr>\n",
       "    <tr>\n",
       "      <th>3</th>\n",
       "      <td>2</td>\n",
       "    </tr>\n",
       "    <tr>\n",
       "      <th>4</th>\n",
       "      <td>viciados</td>\n",
       "    </tr>\n",
       "    <tr>\n",
       "      <th>5</th>\n",
       "      <td>em</td>\n",
       "    </tr>\n",
       "    <tr>\n",
       "      <th>6</th>\n",
       "      <td>guaraná</td>\n",
       "    </tr>\n",
       "    <tr>\n",
       "      <th>7</th>\n",
       "      <td>informações</td>\n",
       "    </tr>\n",
       "    <tr>\n",
       "      <th>8</th>\n",
       "      <td>inúteis</td>\n",
       "    </tr>\n",
       "    <tr>\n",
       "      <th>9</th>\n",
       "      <td>sobre</td>\n",
       "    </tr>\n",
       "    <tr>\n",
       "      <th>10</th>\n",
       "      <td>mim</td>\n",
       "    </tr>\n",
       "    <tr>\n",
       "      <th>11</th>\n",
       "      <td>altura</td>\n",
       "    </tr>\n",
       "    <tr>\n",
       "      <th>12</th>\n",
       "      <td>não</td>\n",
       "    </tr>\n",
       "    <tr>\n",
       "      <th>13</th>\n",
       "      <td>sei</td>\n",
       "    </tr>\n",
       "    <tr>\n",
       "      <th>14</th>\n",
       "      <td>tamanho</td>\n",
       "    </tr>\n",
       "    <tr>\n",
       "      <th>15</th>\n",
       "      <td>do</td>\n",
       "    </tr>\n",
       "    <tr>\n",
       "      <th>16</th>\n",
       "      <td>pé</td>\n",
       "    </tr>\n",
       "    <tr>\n",
       "      <th>17</th>\n",
       "      <td>37</td>\n",
       "    </tr>\n",
       "    <tr>\n",
       "      <th>18</th>\n",
       "      <td>tatuagens</td>\n",
       "    </tr>\n",
       "    <tr>\n",
       "      <th>19</th>\n",
       "      <td>0</td>\n",
       "    </tr>\n",
       "    <tr>\n",
       "      <th>20</th>\n",
       "      <td>piercing</td>\n",
       "    </tr>\n",
       "    <tr>\n",
       "      <th>21</th>\n",
       "      <td>0</td>\n",
       "    </tr>\n",
       "    <tr>\n",
       "      <th>22</th>\n",
       "      <td>cor</td>\n",
       "    </tr>\n",
       "    <tr>\n",
       "      <th>23</th>\n",
       "      <td>fav</td>\n",
       "    </tr>\n",
       "    <tr>\n",
       "      <th>24</th>\n",
       "      <td>azul/preto/roxo</td>\n",
       "    </tr>\n",
       "    <tr>\n",
       "      <th>25</th>\n",
       "      <td>filme</td>\n",
       "    </tr>\n",
       "    <tr>\n",
       "      <th>26</th>\n",
       "      <td>fav</td>\n",
       "    </tr>\n",
       "    <tr>\n",
       "      <th>27</th>\n",
       "      <td>no</td>\n",
       "    </tr>\n",
       "    <tr>\n",
       "      <th>28</th>\n",
       "      <td>momento</td>\n",
       "    </tr>\n",
       "    <tr>\n",
       "      <th>29</th>\n",
       "      <td>capitão</td>\n",
       "    </tr>\n",
       "    <tr>\n",
       "      <th>...</th>\n",
       "      <td>...</td>\n",
       "    </tr>\n",
       "    <tr>\n",
       "      <th>1889</th>\n",
       "      <td>outra</td>\n",
       "    </tr>\n",
       "    <tr>\n",
       "      <th>1890</th>\n",
       "      <td>cidade</td>\n",
       "    </tr>\n",
       "    <tr>\n",
       "      <th>1891</th>\n",
       "      <td>e</td>\n",
       "    </tr>\n",
       "    <tr>\n",
       "      <th>1892</th>\n",
       "      <td>bati</td>\n",
       "    </tr>\n",
       "    <tr>\n",
       "      <th>1893</th>\n",
       "      <td>um</td>\n",
       "    </tr>\n",
       "    <tr>\n",
       "      <th>1894</th>\n",
       "      <td>prato</td>\n",
       "    </tr>\n",
       "    <tr>\n",
       "      <th>1895</th>\n",
       "      <td>de</td>\n",
       "    </tr>\n",
       "    <tr>\n",
       "      <th>1896</th>\n",
       "      <td>estrogonofe</td>\n",
       "    </tr>\n",
       "    <tr>\n",
       "      <th>1897</th>\n",
       "      <td>com</td>\n",
       "    </tr>\n",
       "    <tr>\n",
       "      <th>1898</th>\n",
       "      <td>uma</td>\n",
       "    </tr>\n",
       "    <tr>\n",
       "      <th>1899</th>\n",
       "      <td>guaraná</td>\n",
       "    </tr>\n",
       "    <tr>\n",
       "      <th>1900</th>\n",
       "      <td>de</td>\n",
       "    </tr>\n",
       "    <tr>\n",
       "      <th>1901</th>\n",
       "      <td>1l</td>\n",
       "    </tr>\n",
       "    <tr>\n",
       "      <th>1902</th>\n",
       "      <td>me</td>\n",
       "    </tr>\n",
       "    <tr>\n",
       "      <th>1903</th>\n",
       "      <td>arrependi</td>\n",
       "    </tr>\n",
       "    <tr>\n",
       "      <th>1904</th>\n",
       "      <td>e</td>\n",
       "    </tr>\n",
       "    <tr>\n",
       "      <th>1905</th>\n",
       "      <td>quero</td>\n",
       "    </tr>\n",
       "    <tr>\n",
       "      <th>1906</th>\n",
       "      <td>meu</td>\n",
       "    </tr>\n",
       "    <tr>\n",
       "      <th>1907</th>\n",
       "      <td>dinheiro</td>\n",
       "    </tr>\n",
       "    <tr>\n",
       "      <th>1908</th>\n",
       "      <td>de</td>\n",
       "    </tr>\n",
       "    <tr>\n",
       "      <th>1909</th>\n",
       "      <td>volta</td>\n",
       "    </tr>\n",
       "    <tr>\n",
       "      <th>1910</th>\n",
       "      <td>o</td>\n",
       "    </tr>\n",
       "    <tr>\n",
       "      <th>1911</th>\n",
       "      <td>estrogonofe</td>\n",
       "    </tr>\n",
       "    <tr>\n",
       "      <th>1912</th>\n",
       "      <td>tava</td>\n",
       "    </tr>\n",
       "    <tr>\n",
       "      <th>1913</th>\n",
       "      <td>top</td>\n",
       "    </tr>\n",
       "    <tr>\n",
       "      <th>1914</th>\n",
       "      <td>mas</td>\n",
       "    </tr>\n",
       "    <tr>\n",
       "      <th>1915</th>\n",
       "      <td>eu</td>\n",
       "    </tr>\n",
       "    <tr>\n",
       "      <th>1916</th>\n",
       "      <td>tô</td>\n",
       "    </tr>\n",
       "    <tr>\n",
       "      <th>1917</th>\n",
       "      <td>pobre</td>\n",
       "    </tr>\n",
       "    <tr>\n",
       "      <th>1918</th>\n",
       "      <td>😭😭😭</td>\n",
       "    </tr>\n",
       "  </tbody>\n",
       "</table>\n",
       "<p>1919 rows × 1 columns</p>\n",
       "</div>"
      ],
      "text/plain": [
       "                    0\n",
       "0                  eu\n",
       "1                   e\n",
       "2               bruno\n",
       "3                   2\n",
       "4            viciados\n",
       "5                  em\n",
       "6             guaraná\n",
       "7         informações\n",
       "8             inúteis\n",
       "9               sobre\n",
       "10                mim\n",
       "11             altura\n",
       "12                não\n",
       "13                sei\n",
       "14            tamanho\n",
       "15                 do\n",
       "16                 pé\n",
       "17                 37\n",
       "18          tatuagens\n",
       "19                  0\n",
       "20           piercing\n",
       "21                  0\n",
       "22                cor\n",
       "23                fav\n",
       "24    azul/preto/roxo\n",
       "25              filme\n",
       "26                fav\n",
       "27                 no\n",
       "28            momento\n",
       "29            capitão\n",
       "...               ...\n",
       "1889            outra\n",
       "1890           cidade\n",
       "1891                e\n",
       "1892             bati\n",
       "1893               um\n",
       "1894            prato\n",
       "1895               de\n",
       "1896      estrogonofe\n",
       "1897              com\n",
       "1898              uma\n",
       "1899          guaraná\n",
       "1900               de\n",
       "1901               1l\n",
       "1902               me\n",
       "1903        arrependi\n",
       "1904                e\n",
       "1905            quero\n",
       "1906              meu\n",
       "1907         dinheiro\n",
       "1908               de\n",
       "1909            volta\n",
       "1910                o\n",
       "1911      estrogonofe\n",
       "1912             tava\n",
       "1913              top\n",
       "1914              mas\n",
       "1915               eu\n",
       "1916               tô\n",
       "1917            pobre\n",
       "1918              😭😭😭\n",
       "\n",
       "[1919 rows x 1 columns]"
      ]
     },
     "execution_count": 90,
     "metadata": {},
     "output_type": "execute_result"
    }
   ],
   "source": [
    "relevante_contagem = pd.DataFrame(relevante_txt_limpo.split()) #colocando em cada linha da tabela uma palavra do texto  classificado como relevante\n",
    "relevante_contagem\n",
    "#precisa botar value conts\n",
    "\n",
    "\n",
    "\n"
   ]
  },
  {
   "cell_type": "code",
   "execution_count": 79,
   "metadata": {},
   "outputs": [],
   "source": [
    "irrelevante_col=tweets[tweets['classificacao']=='Irrelevante']['Treinamento']#ler o texto de apenas os tweets classificados como irrelevantes\n"
   ]
  },
  {
   "cell_type": "code",
   "execution_count": 80,
   "metadata": {},
   "outputs": [],
   "source": [
    "irrelevante_txt= \" \".join(relevante_col) # arrumando para forma de texto com espacos entre as palavras"
   ]
  },
  {
   "cell_type": "code",
   "execution_count": 81,
   "metadata": {},
   "outputs": [],
   "source": [
    "irrelevante_txt_limpo = limpeza(relevante_txt) #limpando o texto com a funcao"
   ]
  },
  {
   "cell_type": "code",
   "execution_count": 61,
   "metadata": {},
   "outputs": [],
   "source": [
    "irrelevante_contagem = pd.DataFrame(relevante_txt_limpo.split())\n"
   ]
  },
  {
   "cell_type": "markdown",
   "metadata": {},
   "source": [
    "___\n",
    "### Verificando a performance do Classificador\n",
    "\n",
    "Agora você deve testar o seu classificador com a base de Testes."
   ]
  },
  {
   "cell_type": "code",
   "execution_count": null,
   "metadata": {},
   "outputs": [],
   "source": []
  },
  {
   "cell_type": "code",
   "execution_count": null,
   "metadata": {},
   "outputs": [],
   "source": []
  },
  {
   "cell_type": "code",
   "execution_count": null,
   "metadata": {},
   "outputs": [],
   "source": []
  },
  {
   "cell_type": "code",
   "execution_count": null,
   "metadata": {},
   "outputs": [],
   "source": []
  },
  {
   "cell_type": "code",
   "execution_count": null,
   "metadata": {},
   "outputs": [],
   "source": []
  },
  {
   "cell_type": "markdown",
   "metadata": {},
   "source": [
    "___\n",
    "### Concluindo"
   ]
  },
  {
   "cell_type": "code",
   "execution_count": null,
   "metadata": {},
   "outputs": [],
   "source": []
  },
  {
   "cell_type": "code",
   "execution_count": null,
   "metadata": {},
   "outputs": [],
   "source": []
  },
  {
   "cell_type": "markdown",
   "metadata": {},
   "source": [
    "___\n",
    "## Aperfeiçoamento:\n",
    "\n",
    "Os trabalhos vão evoluir em conceito dependendo da quantidade de itens avançados:\n",
    "\n",
    "* Limpar: \\n, :, \", ', (, ), etc SEM remover emojis\n",
    "* Corrigir separação de espaços entre palavras e emojis ou entre emojis e emojis\n",
    "* Propor outras limpezas e transformações que não afetem a qualidade da informação ou classificação\n",
    "* Criar categorias intermediárias de relevância baseadas na probabilidade: ex.: muito relevante, relevante, neutro, irrelevante, muito irrelevante (3 categorias: C, mais categorias conta para B)\n",
    "* Explicar por que não posso usar o próprio classificador para gerar mais amostras de treinamento\n",
    "* Propor diferentes cenários para Naïve Bayes fora do contexto do projeto\n",
    "* Sugerir e explicar melhorias reais com indicações concretas de como implementar (indicar como fazer e indicar material de pesquisa)\n",
    "* Montar um dashboard que periodicamente realiza análise de sentimento e visualiza estes dados"
   ]
  },
  {
   "cell_type": "markdown",
   "metadata": {},
   "source": [
    "___\n",
    "## Referências"
   ]
  },
  {
   "cell_type": "markdown",
   "metadata": {},
   "source": [
    "[Naive Bayes and Text Classification](https://arxiv.org/pdf/1410.5329.pdf)  **Mais completo**\n",
    "\n",
    "[A practical explanation of a Naive Bayes Classifier](https://monkeylearn.com/blog/practical-explanation-naive-bayes-classifier/) **Mais simples**"
   ]
  },
  {
   "cell_type": "code",
   "execution_count": null,
   "metadata": {},
   "outputs": [],
   "source": []
  }
 ],
 "metadata": {
  "kernelspec": {
   "display_name": "Python 3",
   "language": "python",
   "name": "python3"
  },
  "language_info": {
   "codemirror_mode": {
    "name": "ipython",
    "version": 3
   },
   "file_extension": ".py",
   "mimetype": "text/x-python",
   "name": "python",
   "nbconvert_exporter": "python",
   "pygments_lexer": "ipython3",
   "version": "3.7.3"
  }
 },
 "nbformat": 4,
 "nbformat_minor": 4
}
