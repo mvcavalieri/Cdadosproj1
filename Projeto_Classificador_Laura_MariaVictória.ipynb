{
 "cells": [
  {
   "cell_type": "markdown",
   "metadata": {},
   "source": [
    "# Projeto 1 - Ciência dos Dados"
   ]
  },
  {
   "cell_type": "markdown",
   "metadata": {},
   "source": [
    "Nome:Laura Perim\n",
    "\n",
    "Nome: Maria Victoria Cavalieri"
   ]
  },
  {
   "cell_type": "markdown",
   "metadata": {},
   "source": [
    "Atenção: Serão permitidos grupos de três pessoas, mas com uma rubrica mais exigente. Grupos deste tamanho precisarão fazer um questionário de avaliação de trabalho em equipe"
   ]
  },
  {
   "cell_type": "markdown",
   "metadata": {},
   "source": [
    "___\n",
    "Carregando algumas bibliotecas:"
   ]
  },
  {
   "cell_type": "code",
   "execution_count": 25,
   "metadata": {},
   "outputs": [],
   "source": [
    "#importando as bibliotecas que utilizaremos\n",
    "%matplotlib inline\n",
    "import pandas as pd\n",
    "import matplotlib.pyplot as plt\n",
    "import numpy as np\n",
    "import os"
   ]
  },
  {
   "cell_type": "code",
   "execution_count": 26,
   "metadata": {
    "scrolled": false
   },
   "outputs": [
    {
     "name": "stdout",
     "output_type": "stream",
     "text": [
      "Esperamos trabalhar no diretório\n",
      "C:\\Users\\Vivi\\Documents\\Insper\\2semestre\\C dados\\Cdadosproj1\\Cdadosproj1-master (1)\\Cdadosproj1-master\n"
     ]
    }
   ],
   "source": [
    "print('Esperamos trabalhar no diretório')\n",
    "print(os.getcwd())"
   ]
  },
  {
   "cell_type": "markdown",
   "metadata": {},
   "source": [
    "Carregando a base de dados com os tweets classificados como relevantes e não relevantes:"
   ]
  },
  {
   "cell_type": "code",
   "execution_count": 27,
   "metadata": {},
   "outputs": [],
   "source": [
    "tweets= pd.read_excel('guarana.xlsx')"
   ]
  },
  {
   "cell_type": "markdown",
   "metadata": {},
   "source": [
    "___\n",
    "## Classificador automático de sentimento\n"
   ]
  },
  {
   "cell_type": "markdown",
   "metadata": {},
   "source": [
    "Faça aqui uma descrição do seu produto e o que considerou como relevante ou não relevante na classificação dos tweets.\n",
    "\n",
    "Guaraná é um refrigerante popular no Brasil. Consideramos relevantes os tweets que faziam referência a qualidade do produto, tweets que diziam que o consumidor gosta/quer o produto, comparações com outros refrigerantes ou características marcantes do produto, como manter o consumidor acordado."
   ]
  },
  {
   "cell_type": "markdown",
   "metadata": {},
   "source": [
    "___\n",
    "### Montando um Classificador Naive-Bayes\n",
    "\n",
    "Considerando apenas as mensagens da planilha Treinamento, ensine  seu classificador."
   ]
  },
  {
   "cell_type": "code",
   "execution_count": 28,
   "metadata": {},
   "outputs": [
    {
     "data": {
      "text/html": [
       "<div>\n",
       "<style scoped>\n",
       "    .dataframe tbody tr th:only-of-type {\n",
       "        vertical-align: middle;\n",
       "    }\n",
       "\n",
       "    .dataframe tbody tr th {\n",
       "        vertical-align: top;\n",
       "    }\n",
       "\n",
       "    .dataframe thead th {\n",
       "        text-align: right;\n",
       "    }\n",
       "</style>\n",
       "<table border=\"1\" class=\"dataframe\">\n",
       "  <thead>\n",
       "    <tr style=\"text-align: right;\">\n",
       "      <th></th>\n",
       "      <th>Treinamento</th>\n",
       "      <th>classificacao</th>\n",
       "    </tr>\n",
       "  </thead>\n",
       "  <tbody>\n",
       "    <tr>\n",
       "      <th>0</th>\n",
       "      <td>tomei cápsula de guaraná, café e agora comprei...</td>\n",
       "      <td>2</td>\n",
       "    </tr>\n",
       "    <tr>\n",
       "      <th>1</th>\n",
       "      <td>eu e bruno 2 viciados em guaraná</td>\n",
       "      <td>1</td>\n",
       "    </tr>\n",
       "    <tr>\n",
       "      <th>2</th>\n",
       "      <td>informações inúteis sobre mim:\\n\\naltura - não...</td>\n",
       "      <td>1</td>\n",
       "    </tr>\n",
       "    <tr>\n",
       "      <th>3</th>\n",
       "      <td>comendo aquela tapioca com guaraná do amazonas...</td>\n",
       "      <td>2</td>\n",
       "    </tr>\n",
       "    <tr>\n",
       "      <th>4</th>\n",
       "      <td>@urryoonert guaraná aqui não é refrigerante, t...</td>\n",
       "      <td>1</td>\n",
       "    </tr>\n",
       "  </tbody>\n",
       "</table>\n",
       "</div>"
      ],
      "text/plain": [
       "                                         Treinamento  classificacao\n",
       "0  tomei cápsula de guaraná, café e agora comprei...              2\n",
       "1                   eu e bruno 2 viciados em guaraná              1\n",
       "2  informações inúteis sobre mim:\\n\\naltura - não...              1\n",
       "3  comendo aquela tapioca com guaraná do amazonas...              2\n",
       "4  @urryoonert guaraná aqui não é refrigerante, t...              1"
      ]
     },
     "execution_count": 28,
     "metadata": {},
     "output_type": "execute_result"
    }
   ],
   "source": [
    "tweets.head()"
   ]
  },
  {
   "cell_type": "code",
   "execution_count": 29,
   "metadata": {
    "scrolled": true
   },
   "outputs": [
    {
     "name": "stdout",
     "output_type": "stream",
     "text": [
      "                                           Treinamento classificacao\n",
      "0    tomei cápsula de guaraná, café e agora comprei...   Irrelevante\n",
      "1                     eu e bruno 2 viciados em guaraná     Relevante\n",
      "2    informações inúteis sobre mim:\\n\\naltura - não...     Relevante\n",
      "3    comendo aquela tapioca com guaraná do amazonas...   Irrelevante\n",
      "4    @urryoonert guaraná aqui não é refrigerante, t...     Relevante\n",
      "5    comi um cachorro quente tão bom agr pqp queria...   Irrelevante\n",
      "6    @soulthatblooms guaraná em pó me lembra de um ...   Irrelevante\n",
      "7    tempo que eu não sei oq é festa cm bolo e guar...     Relevante\n",
      "8    @marcosquezado1 opa! programão, ein?! vou acom...     Relevante\n",
      "9    queria muito um estrogonofe de camarão e um gu...     Relevante\n",
      "10   rt @lacristina__: so trocar por coca ou guaraná 👍     Relevante\n",
      "11   pensou em sabor ? #grquentinhas é qualidade e ...   Irrelevante\n",
      "12   strogonoff com batata palha e guaraná tudo pra...     Relevante\n",
      "13            vou tomar um copo de guaraná e vou dormi     Relevante\n",
      "14   rt @vitoriafelix__: quem é q come doce com gua...   Irrelevante\n",
      "15   caralho! como eu queria saber o contexto disso...   Irrelevante\n",
      "16   @nighttele nao falei amore, pra evitar conflit...   Irrelevante\n",
      "17   @francofrito mds... tu é a segunda pessoa que ...   Irrelevante\n",
      "18   coisas que combinam:\\n\\npizza + guaraná\\npipoc...     Relevante\n",
      "19   aqui em casa poder ter guarana n eu bebo toda ...     Relevante\n",
      "20   eu to com desejo de tomar dolly guaraná pode i...     Relevante\n",
      "21   @hazukiyoumi dog na chapa estaçao ac 8 reais +...     Relevante\n",
      "22   comprei um refrizinho p toma com minha janta q...   Irrelevante\n",
      "23         alguem me da um guarana geladinho pod favir     Relevante\n",
      "24   a mina aqui no trampo tá comendo um salgado e ...   Irrelevante\n",
      "25   renan perguntou se eu peguei guaraná falei que...   Irrelevante\n",
      "26                    suco de guaraná é tudo de bom ne     Relevante\n",
      "27   @jenipatzlaff mano sim kkkkk parece guaraná qu...   Irrelevante\n",
      "28   rt @werleeylima: a vida é loka msm há uns anos...   Irrelevante\n",
      "29   pó de guaraná e amendoim, hoje eu tô afim de c...     Relevante\n",
      "..                                                 ...           ...\n",
      "319                      precisava de um guaraná agora     Relevante\n",
      "320  @garciasales @vittorguidoni me lembra um pouco...   Irrelevante\n",
      "321  pegar esse \"bolinho e guaraná\" da vivian seman...   Irrelevante\n",
      "322  @starbockys hoje \\nvai ser \\numa festa\\nbolo e...   Irrelevante\n",
      "323  eu: filho quer suco?\\nele: não mãe, \"anuna\". (...   Irrelevante\n",
      "324  tava tomando guaraná e não tava matando a minh...   Irrelevante\n",
      "325  @linharesjnr @redemassa siiim.... as vezes usa...   Irrelevante\n",
      "326  tomo guarana, suco de caju, goiabada para sobr...   Irrelevante\n",
      "327  @guarana para de apoiar rodeio pra eu poder te...   Irrelevante\n",
      "328  pensou em sabor ? #grquentinhas é qualidade e ...   Irrelevante\n",
      "329  @vola_volare vou fazer guaraná com jabuticaba....   Irrelevante\n",
      "330  aquele pós almoço acompanhado de guaraná, gelo...   Irrelevante\n",
      "331  rt @ferjhon33: “tá bebendo guaraná e tá pegand...   Irrelevante\n",
      "332  @icaroanalises toddy\\nguaraná\\nmarvel\\nde bruy...   Irrelevante\n",
      "333  @emanoel_bitt eu odeio qnd ei leio guarána\\nlo...   Irrelevante\n",
      "334  @_p4zz só um eno guaraná depois kkk https://t....   Irrelevante\n",
      "335             @loveygmin não tem, só guaraná mesmo 😞   Irrelevante\n",
      "336  rt @jao4444: as criança na the choice embrasan...   Irrelevante\n",
      "337  rt @vitoriafelix__: quem é q come doce com gua...   Irrelevante\n",
      "338  a belle pediu p moça da padaria guarda o guara...   Irrelevante\n",
      "339            @guarana os dois tem a mesma quantidade   Irrelevante\n",
      "340  guardei um gole do guarana que eu comprei pra ...   Irrelevante\n",
      "341                   @_fefob e meu café e meu guaraná     Relevante\n",
      "342  td q eu queria agora era um hambúrguer da bk e...     Relevante\n",
      "343  olha só peguei minha folga na quinta pelo gren...   Irrelevante\n",
      "344  @claeruh parece o billy de st, é escroto e faz...   Irrelevante\n",
      "345  tava com vinte conto e tava só a felicidade, f...     Relevante\n",
      "346  botei meu guaraná no freezer e quase esqueço d...   Irrelevante\n",
      "347  e a vitoria que comeu bisnaga cm doritos enqnt...   Irrelevante\n",
      "348  [09/03/2020 23:36:47] kai: strogonoff\\n [09/03...   Irrelevante\n",
      "\n",
      "[349 rows x 2 columns]\n"
     ]
    },
    {
     "data": {
      "text/plain": [
       "'tomei cápsula de guaraná  café e agora comprei outra parada pra dar energia  o cansaço meu pai   '"
      ]
     },
     "execution_count": 29,
     "metadata": {},
     "output_type": "execute_result"
    }
   ],
   "source": [
    "#fazendo da classificao uma categoria para analise\n",
    "tweets.loc[:,'classificacao'] = tweets['classificacao'].astype('category') \n",
    "tweets.classificacao.cat.categories = ['Relevante', 'Irrelevante']\n",
    "print(tweets)\n",
    "import re \n",
    "#funcao limpeza \n",
    "def limpeza(dados):\n",
    "    import string\n",
    "    punctuation = '[!-.:?;,`´]' \n",
    "    pattern = re.compile(punctuation)\n",
    "    text_subbed = re.sub(pattern, ' ', dados)\n",
    "    return text_subbed\n",
    "limpeza(tweets['Treinamento'][0])\n",
    "\n"
   ]
  },
  {
   "cell_type": "code",
   "execution_count": 30,
   "metadata": {},
   "outputs": [],
   "source": [
    "#ler o texto de apenas os tweets classificados como relevantes\n",
    "relevante_col=tweets[tweets['classificacao']=='Relevante']['Treinamento'] \n"
   ]
  },
  {
   "cell_type": "code",
   "execution_count": 31,
   "metadata": {},
   "outputs": [],
   "source": [
    " # arrumando para forma de texto com espacos entre as palavras\n",
    "relevante_txt= \" \".join(relevante_col) "
   ]
  },
  {
   "cell_type": "code",
   "execution_count": 32,
   "metadata": {},
   "outputs": [
    {
     "data": {
      "text/plain": [
       "'eu e bruno 2 viciados em guaraná informações inúteis sobre mim \\n\\naltura   não sei\\ntamanho do pé   37\\ntatuagens   0\\npiercing   0\\ncor fav   azul/preto/roxo\\nfilme fav   no momento capitão fantástico\\nsérie fav   stranger things\\ncomida fav   strogonoff/pizza\\nbebida fav   guaraná https //t co/kqcleotkxg @urryoonert guaraná aqui não é refrigerante  tá mais para um refresco com muuuuuito açúcar kkk tempo que eu não sei oq é festa cm bolo e guaraná  vagabundo só quer sabe de brahma e voodk cm energético ainda surgi a ousadia fudeu @marcosquezado1 opa  programão  ein   vou acompanhar com pipoca e guaraná  mas esses militontos tem mudado de placa e cores    mesmo q extintos  o eleitor tem que aprender a escolher  e a apuração dos votos tem que ser idônea  queria muito um estrogonofe de camarão e um guaraná antártica bem gelado   deus prfvr tenha piedade de mim rt @lacristina__  so trocar por coca ou guaraná 👍 strogonoff com batata palha e guaraná tudo pra mim vou tomar um copo de guaraná e vou dormi coisas que combinam \\n\\npizza   guaraná\\npipoca   refrigerante\\nhambúrguer   batata frita\\neu   você comendo tudo isso bb\\n\\nvai perder essa oportunidade  aqui em casa poder ter guarana n eu bebo toda hora mais agua q e bom nadaaaa eu to com desejo de tomar dolly guaraná pode isso     @hazukiyoumi dog na chapa estaçao ac 8 reais   guarana em lata te amo alguem me da um guarana geladinho pod favir suco de guaraná é tudo de bom ne pó de guaraná e amendoim  hoje eu tô afim de caprichar fui tomar pó de guaraná achando que tinha gosto de tang  quando fui ver era só a terra bom dia pessoal  hoje eu substitui uma xícara de café por uma colher de pó de guaraná  \\n\\n10 minutos atrás eu tava morrendo com uma pequena aceleração  \\n\\n1º dia de pó de guaraná e zero sonos  \\nacompanhem o diário rt @sulcideluk  charrua melhor guaraná quem discorda tá errado rt @brvmxs  10  40 da manha  acordar  tomar um café da manhã saudável com um guaraná e depois jogar uma aramzinha c meu amor  ahaaaaam aquele guaraná em pó pra levantar a moral só bolinha de queijo  guaraná e chocolate pra me fazer feliz hj    lá vou eu gastar dinheiro na facul eu queria meu guaraná jesus e o esaú n guardou nada pra mim\\neu fiquei muito triste https //t co/1iwjfs581i @btsfeel hoje vai ser uma festa\\nbola e guaraná muito doce pra comer\\n\\nfeliz aniversário anjinho   \\nhttps //t co/mg4kmkotxs matei minha vontade de comer estrogonofe com copao de guaraná antártica @favoriteany é feito de guaraná mas não é refrigerante  tá mais para um refresco com muuuuuito açúcar charrua melhor guaraná quem discorda tá errado que guarana ruim é esse kuat gosto de remédio purinho  ainda me sobra varios dele    😣🤮 a segunda feira já foi quase todo volume de trabalho concentrado num dia só  hoje eu já acordei tomando meu shot de limão adicionado de guaraná em pó e catei a cápsula mais forte de café que já passou por essa casa  agora só falta um guindaste me levantar porque tá foda    guarana friburgo esta no meu top 3 de refrigerantes tudo que eu queria era aquele guaraná do amazonas que vende no bonarabe @jasrwgers itiiiiiiiiijehehehejejeje oh meu deus a irmã te ama demais  traz bolo sim  vamos comer muito bolo e guaraná parei de tomar refri há mais de um ano  pq eu quis  e o sabor que eu mais sinto falta é o guaraná  mas agora lançaram o natu e eu preciso experimentar rt @rubinhoffc  guaraná kuat não é refrigerante  é remédio queria tomar uns 2 litros de guaraná jesus agr tlgd n sei se eu to adaptado ou se meu corpo ta mais resistente  to tomando café e logo em seguido to bebendo guaraná pra da energia e n adianta em porra nenhuma  @littlesacra trás guaraná jesus pa nós amanhã vou gastar todo meu dinheiro com drogas  das mais pesadas  sem dó nem piedade  bolo de chocolate  guaraná da amazônia  milkshake  sunday vo ficar lokona @piiece_of_peace @agustdvv açaí de banana e guarana eu gosto  mas me enjoa rápido pq fica mt doce pra mim\\neu gosto de morango ou maracuja que aí eu posso encher de complementos e não enjoa nunca ♥ @hastadlol ja bebeu seu guarana hj  @mltbysungg @melhortutorial bebi umas 4 lata de guarana seguida  to e m b r e a g a d o eu te amo  guaraná antarctica ontem n fui dormir mt bem e hoje tb n acordei legal    09h da manhã eu comendo bolinho de queijo e mistinho cheio de ketchup c um guaraná bem geladinho  agora m sinto preparada p qualquer tombo da vida minha chefe manda eu ir assistir treinamento  só pra comer pipoca e tomar guaraná 😂😂😂 melhor não tem ❤️ rt @portellazzz  como que eu vou parar de tomar refri se guaraná antártica é a melhor coisa já criada nesse mundo   tentando estudar sem usar nada pra ficar acordada  mas estou falhando miseravelmente e vamos de energético e pó de guaraná  existem pessoas que amam guaraná eu por exemplo tenho uma tatuagem disso   tatuagem do guaraná  serio   não óbvio que não  eu lembrando que tenho a tatuagem do vinho @carlosfreitaaas quero o guaraná tá certo que eu prefiro guaraná mas eu to bebendo uma coca bem geladinha 🤩 sedenta por um copo de guaraná o acreano q mora fora quando encontra qualquer projeto de açaí que nao tenha gosto de xarope de guaraná nao quer guerra com ninguem acordei estressado  mas fui no mercado e lancei aquele guaraná do bom vontade de comer um italiano quentinho e tomar um refrigerante de guaraná caraca mane  que desejo absurdo que eu to de tomar um guaraná antártica geladin @hastadlol os cara curte guaraná rt @melbruu  se tem uma coisa que eu gosto de beber é guaraná natural pqp 🤤🤤🤤 to viciada em guaraná mix e agora mds      rt @giibatistaa  td q eu queria agora era um hambúrguer da bk e aquele refil de guaraná antárctica mais um gaúcho conhecendo o melhor guaraná que existe 💁🏼\\u200d♀️😅 https //t co/rqrecjptcq eu pago um suquinho de guaraná queria tomar um guaraná da heineken não resisto a um guaraná antártica 😋🤦 quase 5h da manhã e eu c vontade de tomar guaraná 🤦🏻\\u200d♀️ kkkkkkkkkkkk se tem uma coisa que eu gosto de beber é guaraná natural pqp 🤤🤤🤤 @rick_c99 guaraná e melhor tava ha umas semanas sem beber nenhum refri e fui inventar de beber hoje um guaraná  vei não aguentei dar 2 goles que sensação horrível o que eu não daria por um empadão e um guaraná agora a pessoa q come um hambúrguer c cheddar e um guaraná antárctica no café da manhã n quer guerra c ngm a grande rio vem de guaraná mesmo  https //t co/w6cefsjjnf lembrei de um sorvete de guarana q eu comi anteontem nodsa foi a pior coisa q eu ja tomei na minha vida juro thiago comprou um montão de coisa no domingo  já acabou tudo  até o guaraná kkkkkkkkkkkkkkkkkkk q ódio só queria saber onde eu encontro o guaraná antártica 100  natural sou a mulher mais feliz comendo yakissoba e tomando guarana jesus @2xminilyce aa guaraná não é mt bom  mas caso vc não tiver melhor amanhã  se ai onde vc mora tiver chá de boldo ajuda mt guaraná antárctica   óbvio @guarana este é o melhor guaraná do mundo amo🥰🥰🥰 e se eu comesse um hamburgao com guarana agora https //t co/pev1lu3902 rt @potterlov3  queria muito um estrogonofe de camarão e um guaraná antártica bem gelado   deus prfvr tenha piedade de mim a cada 30 min pego um pouco de guaraná jesus q era p fim de semana veja o novo refrigerante da guaraná antarctica sem açúcar e corantes https //t co/y7sujfowch https //t co/3duhazc4yr rt @emilly_uai  é logico que guaraná  é melhor  que coca plmd @gabrielolivf me chama eu levo guarana e po a única vontade é enrolar as duas pizza da nono picoli e comer tomando o guaraná q vem na promo guarana zero de visual novo      estranhei    mas ta lindinha de roupa nova  https //t co/ltlaoxzmyw deus  meu deus  pq eu como 10 coxinhas com guaraná e dps reclamo q to gorda  guaraná antarctica  é melhor que coca cola  queria tomar um suco de guaraná @joosepulveda2 grapette e guaraná coroa juntos é pedir pra morrer @lovesurreax kjkjjkkkk eh guaraná com mais açúcar e melhor acho que não existe ngm mais apaixonada do que eu por convenção guaraná 😋😍❤️ crlh ryan fominha de guaraná eu sei q todo mundo acha mas ninguém tem coragem pra falar     suco de guaraná é bom pakas a última vez que eu tomei café e po de guaraná eu não parava quieta  vamos ver né meu cunhado fez um negócio de açaí com pó de guaraná e estou aqui ligadona e sem sono @rafarosadas eu sou suco de manga/uva e refri sem gas de guaraná  nao fico sem amg\\nnão consigo gostar de agua com gas n vejo sentindoooooo “tia me dá guaraná” 🥰🥰🥰 vontade de um guaraná geladinho puta merda único refrigerante que me dá gatilho é o guaraná garoto q eu não posso ver q meu cerebro fica o próprio meme\\n\\nquelo beber refrigelante tomei uma xicara de café puto de forte e um cp de guaraná extra e to lutando com meus olhos p fica aberto 😥 pepsi  coca cola e guaraná antártica são os melhores refris da vida queria almoçar uma saladinha da estação do guaraná ☹️ rt @candeiakethlyn  guaraná é mt melhor q coca @mavivalenza guaraná em pó  é bom  mas se vc trm problema no coração talvez seja um pouco arriscado melhores bebidas do brasil  guaravita e guaraná jesus e sem choro https //t co/cspq5zyrvs @lukasssid meti 3 burgao com 3 guaraná por 13 50 to feliz demais fi td q eu queria agora era um hambúrguer da bk e aquele refil de guaraná antárctica @babs_costa tô tomando guaraná a uma semana  não fez efeito algum  tem que tomar a cafeína em cápsulas mesmo se gabi levar guaraná jesus pra mim eu vou ser a mulher mais feliz de planície rt @hrmnyj  guaraná antartica é mil vezes melhor q coca  sou do rj e vim dizer que o camp de uva é o melhor guarana https //t co/gmcy2z4atg precisava de um guaraná agora pedi ela pra  comprar suco de açai com guaraná e ela me vem com laranja com mamão a médica  nada de guaraná em mariana \\neu as 5 00 da manhã  quelo gualana gelado tomei uma cápsula de guaraná  espero que me ajude pq to quase falecendo real não aguento mais tomar guaraná 🤮 fanta🤮 kkkkkkkkkkkk ele é demais  desse tamanho viciado guaraná https //t co/vkp6j2sath eu tentando suprir minha vontade de comer açúcar tomando guaraná zero \\n\\nodioooo caralho eu amo guaraná cruzeiro q vontade louca de tomar um refri  um guaraná bem geladinho 🥺🤦\\u200d♀️ quem inventou o guaraná kuat devia tá c mt ódio da população pqp q bag horrível @radcurtain meu deus amo esse guaraná tomei cápsula de guaraná  café e agora comprei outra parada pra dar energia  o cansaço meu pai    precisava de um guaraná agora @_fefob e meu café e meu guaraná td q eu queria agora era um hambúrguer da bk e aquele refil de guaraná antárctica tava com vinte conto e tava só a felicidade  fui pra outra cidade e bati um prato de estrogonofe com uma guaraná de 1l me arrependi e quero meu dinheiro de volta  o estrogonofe tava top mas eu tô pobre 😭😭😭 '"
      ]
     },
     "execution_count": 32,
     "metadata": {},
     "output_type": "execute_result"
    }
   ],
   "source": [
    "#limpando o texto com a funcao\n",
    "relevante_txt_limpo = limpeza(relevante_txt)\n",
    "relevante_txt_limpo"
   ]
  },
  {
   "cell_type": "code",
   "execution_count": 33,
   "metadata": {},
   "outputs": [
    {
     "name": "stdout",
     "output_type": "stream",
     "text": [
      "guaraná            0.058885\n",
      "de                 0.047942\n",
      "e                  0.035435\n",
      "eu                 0.028140\n",
      "um                 0.022408\n",
      "que                0.017718\n",
      "é                  0.013549\n",
      "a                  0.013028\n",
      "o                  0.011985\n",
      "com                0.011464\n",
      "não                0.010422\n",
      "q                  0.010422\n",
      "da                 0.009901\n",
      "tomar              0.008338\n",
      "meu                0.007817\n",
      "pra                0.007817\n",
      "guarana            0.007295\n",
      "melhor             0.007295\n",
      "uma                0.007295\n",
      "mais               0.007295\n",
      "//t                0.006253\n",
      "https              0.006253\n",
      "mas                0.006253\n",
      "queria             0.006253\n",
      "agora              0.006253\n",
      "to                 0.006253\n",
      "em                 0.005732\n",
      "rt                 0.005732\n",
      "me                 0.005732\n",
      "do                 0.005211\n",
      "                     ...   \n",
      "@favoriteany       0.000521\n",
      "refrigelante       0.000521\n",
      "sorvete            0.000521\n",
      "xícara             0.000521\n",
      "altura             0.000521\n",
      "moral              0.000521\n",
      "bati               0.000521\n",
      "@melhortutorial    0.000521\n",
      "chefe              0.000521\n",
      "kjkjjkkkk          0.000521\n",
      "natu               0.000521\n",
      "vezes              0.000521\n",
      "vinte              0.000521\n",
      "sentindoooooo      0.000521\n",
      "lá                 0.000521\n",
      "ele                0.000521\n",
      "refris             0.000521\n",
      "so                 0.000521\n",
      "opa                0.000521\n",
      "fiquei             0.000521\n",
      "achando            0.000521\n",
      "exemplo            0.000521\n",
      "italiano           0.000521\n",
      "vinho              0.000521\n",
      "vejo               0.000521\n",
      "lokona             0.000521\n",
      "rj                 0.000521\n",
      "segunda            0.000521\n",
      "este               0.000521\n",
      "momento            0.000521\n",
      "Length: 740, dtype: float64\n"
     ]
    }
   ],
   "source": [
    "#arrumando todas as palavras relevantes para  calcular a  frequencia relativa delas\n",
    "todas_rel= relevante_txt_limpo.split()\n",
    "serie_rel = pd.Series(todas_rel) \n",
    "tabela_relativar= serie_rel.value_counts(True)\n",
    "print(tabela_relativar)"
   ]
  },
  {
   "cell_type": "code",
   "execution_count": 34,
   "metadata": {},
   "outputs": [],
   "source": [
    "#ler o texto de apenas os tweets classificados como irrelevantes\n",
    "\n",
    "irrelevante_col=tweets[tweets['classificacao']=='Irrelevante']['Treinamento']\n",
    "\n"
   ]
  },
  {
   "cell_type": "code",
   "execution_count": 35,
   "metadata": {},
   "outputs": [],
   "source": [
    "# arrumando para forma de texto com espacos entre as palavras\n",
    "irrelevante_txt= \" \".join(irrelevante_col) "
   ]
  },
  {
   "cell_type": "code",
   "execution_count": 36,
   "metadata": {},
   "outputs": [],
   "source": [
    "irrelevante_txt_limpo = limpeza(irrelevante_txt) #limpando o texto com a funcao"
   ]
  },
  {
   "cell_type": "code",
   "execution_count": 37,
   "metadata": {},
   "outputs": [
    {
     "name": "stdout",
     "output_type": "stream",
     "text": [
      "guaraná                 0.041597\n",
      "e                       0.029166\n",
      "de                      0.028688\n",
      "eu                      0.020798\n",
      "é                       0.018647\n",
      "que                     0.017213\n",
      "a                       0.016256\n",
      "o                       0.015300\n",
      "um                      0.012670\n",
      "com                     0.012670\n",
      "do                      0.010519\n",
      "em                      0.009323\n",
      "pra                     0.009084\n",
      "https                   0.009084\n",
      "//t                     0.009084\n",
      "uma                     0.007889\n",
      "não                     0.007172\n",
      "rt                      0.006455\n",
      "da                      0.005977\n",
      "q                       0.005977\n",
      "meu                     0.005738\n",
      "na                      0.005498\n",
      "lá                      0.005259\n",
      "se                      0.005020\n",
      "mas                     0.004781\n",
      "ou                      0.004542\n",
      "você                    0.004303\n",
      "no                      0.004303\n",
      "@guarana                0.004064\n",
      "já                      0.004064\n",
      "                          ...   \n",
      "encher                  0.000239\n",
      "co/bk2zaprecb           0.000239\n",
      "@redemassa              0.000239\n",
      "morango                 0.000239\n",
      "@crvgdanni              0.000239\n",
      "cheio                   0.000239\n",
      "@bfrmarcelo             0.000239\n",
      "gole                    0.000239\n",
      "vão                     0.000239\n",
      "trocar                  0.000239\n",
      "🤦🏻‍♀️                   0.000239\n",
      "estar                   0.000239\n",
      "paulada                 0.000239\n",
      "@thelminha_assis        0.000239\n",
      "bolso                   0.000239\n",
      "@guileitaooo            0.000239\n",
      "jj                      0.000239\n",
      "poucos                  0.000239\n",
      "jorge                   0.000239\n",
      "@needy_y                0.000239\n",
      "@bearitz_               0.000239\n",
      "guaravita               0.000239\n",
      "renan                   0.000239\n",
      "refrizinho              0.000239\n",
      "sobremeeeeeeesaaaaaa    0.000239\n",
      "@4uexpbr                0.000239\n",
      "banco                   0.000239\n",
      "ofereci                 0.000239\n",
      "elas                    0.000239\n",
      "falasse                 0.000239\n",
      "Length: 1353, dtype: float64\n",
      "guaraná            0.058885\n",
      "de                 0.047942\n",
      "e                  0.035435\n",
      "eu                 0.028140\n",
      "um                 0.022408\n",
      "que                0.017718\n",
      "é                  0.013549\n",
      "a                  0.013028\n",
      "o                  0.011985\n",
      "com                0.011464\n",
      "não                0.010422\n",
      "q                  0.010422\n",
      "da                 0.009901\n",
      "tomar              0.008338\n",
      "meu                0.007817\n",
      "pra                0.007817\n",
      "guarana            0.007295\n",
      "melhor             0.007295\n",
      "uma                0.007295\n",
      "mais               0.007295\n",
      "//t                0.006253\n",
      "https              0.006253\n",
      "mas                0.006253\n",
      "queria             0.006253\n",
      "agora              0.006253\n",
      "to                 0.006253\n",
      "em                 0.005732\n",
      "rt                 0.005732\n",
      "me                 0.005732\n",
      "do                 0.005211\n",
      "                     ...   \n",
      "@favoriteany       0.000521\n",
      "refrigelante       0.000521\n",
      "sorvete            0.000521\n",
      "xícara             0.000521\n",
      "altura             0.000521\n",
      "moral              0.000521\n",
      "bati               0.000521\n",
      "@melhortutorial    0.000521\n",
      "chefe              0.000521\n",
      "kjkjjkkkk          0.000521\n",
      "natu               0.000521\n",
      "vezes              0.000521\n",
      "vinte              0.000521\n",
      "sentindoooooo      0.000521\n",
      "lá                 0.000521\n",
      "ele                0.000521\n",
      "refris             0.000521\n",
      "so                 0.000521\n",
      "opa                0.000521\n",
      "fiquei             0.000521\n",
      "achando            0.000521\n",
      "exemplo            0.000521\n",
      "italiano           0.000521\n",
      "vinho              0.000521\n",
      "vejo               0.000521\n",
      "lokona             0.000521\n",
      "rj                 0.000521\n",
      "segunda            0.000521\n",
      "este               0.000521\n",
      "momento            0.000521\n",
      "Length: 740, dtype: float64\n"
     ]
    }
   ],
   "source": [
    "#irrelevante_contagem = pd.DataFrame(irrelevante_txt_limpo.split())\n",
    "todas_irrel=  irrelevante_txt_limpo.split()\n",
    "serie_irrel= pd.Series(todas_irrel)\n",
    "tabela_relativai= serie_irrel.value_counts(True)\n",
    "#tabela freq relativa das palavras relevantes e irrelevantes\n",
    "print(tabela_relativai)\n",
    "print(tabela_relativar)\n"
   ]
  },
  {
   "cell_type": "code",
   "execution_count": 38,
   "metadata": {},
   "outputs": [
    {
     "name": "stdout",
     "output_type": "stream",
     "text": [
      "guaraná          0.047034\n",
      "de               0.034743\n",
      "e                0.031137\n",
      "eu               0.023107\n",
      "que              0.017371\n",
      "é                0.017044\n",
      "um               0.015733\n",
      "a                0.015241\n",
      "o                0.014258\n",
      "com              0.012291\n",
      "do               0.008850\n",
      "pra              0.008686\n",
      "//t              0.008194\n",
      "não              0.008194\n",
      "em               0.008194\n",
      "https            0.008194\n",
      "uma              0.007702\n",
      "q                0.007375\n",
      "da               0.007211\n",
      "meu              0.006391\n",
      "rt               0.006227\n",
      "mas              0.005244\n",
      "se               0.004916\n",
      "guarana          0.004916\n",
      "mais             0.004589\n",
      "me               0.004589\n",
      "na               0.004425\n",
      "só               0.004097\n",
      "no               0.004097\n",
      "lá               0.003769\n",
      "                   ...   \n",
      "opaaaaaaa        0.000164\n",
      "somos            0.000164\n",
      "tosse            0.000164\n",
      "caracu           0.000164\n",
      "piercing         0.000164\n",
      "dolly🎶           0.000164\n",
      "começou          0.000164\n",
      "@emanoel_bitt    0.000164\n",
      "grande           0.000164\n",
      "desconto         0.000164\n",
      "visual           0.000164\n",
      "euros            0.000164\n",
      "atendem          0.000164\n",
      "@tt_perolass     0.000164\n",
      "dms              0.000164\n",
      "molhada          0.000164\n",
      "encarar          0.000164\n",
      "sonos            0.000164\n",
      "participou       0.000164\n",
      "criada           0.000164\n",
      "amigo            0.000164\n",
      "cheguei          0.000164\n",
      "calma            0.000164\n",
      "desafio          0.000164\n",
      "cadê             0.000164\n",
      "churas           0.000164\n",
      "forma            0.000164\n",
      "especial         0.000164\n",
      "duas             0.000164\n",
      "correndo         0.000164\n",
      "Length: 1771, dtype: float64\n"
     ]
    }
   ],
   "source": [
    "#frequencia relativa das palavras relevantes e irrelevantes juntas\n",
    "todas_palavras= relevante_txt_limpo + irrelevante_txt_limpo\n",
    "serie_tudo= pd.Series(todas_palavras.split())\n",
    "tabela_relativa_tudo= serie_tudo.value_counts(True)\n",
    "print(tabela_relativa_tudo) #1771 palavras diferentes nas duas classes"
   ]
  },
  {
   "cell_type": "code",
   "execution_count": 39,
   "metadata": {},
   "outputs": [
    {
     "name": "stdout",
     "output_type": "stream",
     "text": [
      "0             tomei\n",
      "1           cápsula\n",
      "2                de\n",
      "3           guaraná\n",
      "4              café\n",
      "5                 e\n",
      "6             agora\n",
      "7           comprei\n",
      "8             outra\n",
      "9            parada\n",
      "10              pra\n",
      "11              dar\n",
      "12          energia\n",
      "13                o\n",
      "14          cansaço\n",
      "15              meu\n",
      "16              pai\n",
      "17          comendo\n",
      "18           aquela\n",
      "19          tapioca\n",
      "20              com\n",
      "21          guaraná\n",
      "22               do\n",
      "23         amazonas\n",
      "24              pra\n",
      "25              dar\n",
      "26                a\n",
      "27            força\n",
      "28                p\n",
      "29          encarar\n",
      "           ...     \n",
      "4153        guarana\n",
      "4154    [09/03/2020\n",
      "4155             23\n",
      "4156             36\n",
      "4157            47]\n",
      "4158            kai\n",
      "4159     strogonoff\n",
      "4160    [09/03/2020\n",
      "4161             23\n",
      "4162             36\n",
      "4163            49]\n",
      "4164            kai\n",
      "4165            com\n",
      "4166           coca\n",
      "4167    [09/03/2020\n",
      "4168             23\n",
      "4169             36\n",
      "4170            56]\n",
      "4171         irmão💕\n",
      "4172              n\n",
      "4173           bebo\n",
      "4174        guaraná\n",
      "4175    [09/03/2020\n",
      "4176             23\n",
      "4177             37\n",
      "4178            03]\n",
      "4179            kai\n",
      "4180            mas\n",
      "4181             eu\n",
      "4182           bebo\n",
      "Length: 4183, dtype: object\n",
      "0                    eu\n",
      "1                     e\n",
      "2                 bruno\n",
      "3                     2\n",
      "4              viciados\n",
      "5                    em\n",
      "6               guaraná\n",
      "7           informações\n",
      "8               inúteis\n",
      "9                 sobre\n",
      "10                  mim\n",
      "11               altura\n",
      "12                  não\n",
      "13                  sei\n",
      "14              tamanho\n",
      "15                   do\n",
      "16                   pé\n",
      "17                   37\n",
      "18            tatuagens\n",
      "19                    0\n",
      "20             piercing\n",
      "21                    0\n",
      "22                  cor\n",
      "23                  fav\n",
      "24      azul/preto/roxo\n",
      "25                filme\n",
      "26                  fav\n",
      "27                   no\n",
      "28              momento\n",
      "29              capitão\n",
      "             ...       \n",
      "1889              outra\n",
      "1890             cidade\n",
      "1891                  e\n",
      "1892               bati\n",
      "1893                 um\n",
      "1894              prato\n",
      "1895                 de\n",
      "1896        estrogonofe\n",
      "1897                com\n",
      "1898                uma\n",
      "1899            guaraná\n",
      "1900                 de\n",
      "1901                 1l\n",
      "1902                 me\n",
      "1903          arrependi\n",
      "1904                  e\n",
      "1905              quero\n",
      "1906                meu\n",
      "1907           dinheiro\n",
      "1908                 de\n",
      "1909              volta\n",
      "1910                  o\n",
      "1911        estrogonofe\n",
      "1912               tava\n",
      "1913                top\n",
      "1914                mas\n",
      "1915                 eu\n",
      "1916                 tô\n",
      "1917              pobre\n",
      "1918                😭😭😭\n",
      "Length: 1919, dtype: object\n"
     ]
    }
   ],
   "source": [
    "print(serie_irrel) #numero total de palavras irrelevantes é 4183\n",
    "print(serie_rel) #número total de palavras relevantes é 1919"
   ]
  },
  {
   "cell_type": "code",
   "execution_count": 40,
   "metadata": {
    "scrolled": true
   },
   "outputs": [
    {
     "name": "stdout",
     "output_type": "stream",
     "text": [
      "0.6855129465748935\n",
      "0.3144870534251065\n"
     ]
    }
   ],
   "source": [
    "#calculando prob de ser relevante e irrelevante\n",
    "probI= len(serie_irrel)/len(serie_tudo)\n",
    "probR= len(serie_rel)/len(serie_tudo)\n",
    "print(probI)\n",
    "print(probR)\n"
   ]
  },
  {
   "cell_type": "code",
   "execution_count": 41,
   "metadata": {},
   "outputs": [
    {
     "name": "stdout",
     "output_type": "stream",
     "text": [
      "guaraná                 174\n",
      "e                       122\n",
      "de                      120\n",
      "eu                       87\n",
      "é                        78\n",
      "que                      72\n",
      "a                        68\n",
      "o                        64\n",
      "um                       53\n",
      "com                      53\n",
      "do                       44\n",
      "em                       39\n",
      "pra                      38\n",
      "https                    38\n",
      "//t                      38\n",
      "uma                      33\n",
      "não                      30\n",
      "rt                       27\n",
      "da                       25\n",
      "q                        25\n",
      "meu                      24\n",
      "na                       23\n",
      "lá                       22\n",
      "se                       21\n",
      "mas                      20\n",
      "ou                       19\n",
      "você                     18\n",
      "no                       18\n",
      "@guarana                 17\n",
      "já                       17\n",
      "                       ... \n",
      "encher                    1\n",
      "co/bk2zaprecb             1\n",
      "@redemassa                1\n",
      "morango                   1\n",
      "@crvgdanni                1\n",
      "cheio                     1\n",
      "@bfrmarcelo               1\n",
      "gole                      1\n",
      "vão                       1\n",
      "trocar                    1\n",
      "🤦🏻‍♀️                     1\n",
      "estar                     1\n",
      "paulada                   1\n",
      "@thelminha_assis          1\n",
      "bolso                     1\n",
      "@guileitaooo              1\n",
      "jj                        1\n",
      "poucos                    1\n",
      "jorge                     1\n",
      "@needy_y                  1\n",
      "@bearitz_                 1\n",
      "guaravita                 1\n",
      "renan                     1\n",
      "refrizinho                1\n",
      "sobremeeeeeeesaaaaaa      1\n",
      "@4uexpbr                  1\n",
      "banco                     1\n",
      "ofereci                   1\n",
      "elas                      1\n",
      "falasse                   1\n",
      "Length: 1353, dtype: int64\n",
      "0             tomei\n",
      "1           cápsula\n",
      "2                de\n",
      "3           guaraná\n",
      "4              café\n",
      "5                 e\n",
      "6             agora\n",
      "7           comprei\n",
      "8             outra\n",
      "9            parada\n",
      "10              pra\n",
      "11              dar\n",
      "12          energia\n",
      "13                o\n",
      "14          cansaço\n",
      "15              meu\n",
      "16              pai\n",
      "17          comendo\n",
      "18           aquela\n",
      "19          tapioca\n",
      "20              com\n",
      "21          guaraná\n",
      "22               do\n",
      "23         amazonas\n",
      "24              pra\n",
      "25              dar\n",
      "26                a\n",
      "27            força\n",
      "28                p\n",
      "29          encarar\n",
      "           ...     \n",
      "4153        guarana\n",
      "4154    [09/03/2020\n",
      "4155             23\n",
      "4156             36\n",
      "4157            47]\n",
      "4158            kai\n",
      "4159     strogonoff\n",
      "4160    [09/03/2020\n",
      "4161             23\n",
      "4162             36\n",
      "4163            49]\n",
      "4164            kai\n",
      "4165            com\n",
      "4166           coca\n",
      "4167    [09/03/2020\n",
      "4168             23\n",
      "4169             36\n",
      "4170            56]\n",
      "4171         irmão💕\n",
      "4172              n\n",
      "4173           bebo\n",
      "4174        guaraná\n",
      "4175    [09/03/2020\n",
      "4176             23\n",
      "4177             37\n",
      "4178            03]\n",
      "4179            kai\n",
      "4180            mas\n",
      "4181             eu\n",
      "4182           bebo\n",
      "Length: 4183, dtype: object\n",
      "0                    eu\n",
      "1                     e\n",
      "2                 bruno\n",
      "3                     2\n",
      "4              viciados\n",
      "5                    em\n",
      "6               guaraná\n",
      "7           informações\n",
      "8               inúteis\n",
      "9                 sobre\n",
      "10                  mim\n",
      "11               altura\n",
      "12                  não\n",
      "13                  sei\n",
      "14              tamanho\n",
      "15                   do\n",
      "16                   pé\n",
      "17                   37\n",
      "18            tatuagens\n",
      "19                    0\n",
      "20             piercing\n",
      "21                    0\n",
      "22                  cor\n",
      "23                  fav\n",
      "24      azul/preto/roxo\n",
      "25                filme\n",
      "26                  fav\n",
      "27                   no\n",
      "28              momento\n",
      "29              capitão\n",
      "             ...       \n",
      "1889              outra\n",
      "1890             cidade\n",
      "1891                  e\n",
      "1892               bati\n",
      "1893                 um\n",
      "1894              prato\n",
      "1895                 de\n",
      "1896        estrogonofe\n",
      "1897                com\n",
      "1898                uma\n",
      "1899            guaraná\n",
      "1900                 de\n",
      "1901                 1l\n",
      "1902                 me\n",
      "1903          arrependi\n",
      "1904                  e\n",
      "1905              quero\n",
      "1906                meu\n",
      "1907           dinheiro\n",
      "1908                 de\n",
      "1909              volta\n",
      "1910                  o\n",
      "1911        estrogonofe\n",
      "1912               tava\n",
      "1913                top\n",
      "1914                mas\n",
      "1915                 eu\n",
      "1916                 tô\n",
      "1917              pobre\n",
      "1918                😭😭😭\n",
      "Length: 1919, dtype: object\n"
     ]
    }
   ],
   "source": [
    "#quantas vezes aparecem cada palavra\n",
    "freq_irrel= serie_irrel.value_counts()\n",
    "print(freq_irrel)\n",
    "freq_rel= serie_rel.value_counts()\n",
    "print(serie_irrel)\n",
    "print(serie_rel)\n"
   ]
  },
  {
   "cell_type": "code",
   "execution_count": 42,
   "metadata": {
    "scrolled": true
   },
   "outputs": [
    {
     "name": "stdout",
     "output_type": "stream",
     "text": [
      "4183\n",
      "1919\n"
     ]
    }
   ],
   "source": [
    "somaI= 4183 #length da série de palavras irrelevantes (conta repetidas)\n",
    "somaR= 1919 #length da série de palavras relevantes (conta repetidas)\n",
    "print(somaI)\n",
    "print(somaR)"
   ]
  },
  {
   "cell_type": "markdown",
   "metadata": {},
   "source": [
    "\n",
    "\n",
    "___\n",
    "### Verificando a performance do Classificador\n",
    "\n",
    "Agora você deve testar o seu classificador com a base de Testes."
   ]
  },
  {
   "cell_type": "code",
   "execution_count": 43,
   "metadata": {},
   "outputs": [],
   "source": [
    "\n",
    "tweetsteste= pd.read_excel('guarana.xlsx',sheet_name='Teste')  # Puxa o dataset\n",
    "tweetsteste[\"Teste s/ pont.\"] = tweetsteste[\"Teste\"].apply(limpeza) # Aplica \"Limpeza\" automaticamente\n",
    "\n",
    "tw_teste = tweetsteste[\"Teste s/ pont.\"] # Seleciona apenas a coluna de tweets após a limpeza\n",
    "\n",
    "\n",
    "\n"
   ]
  },
  {
   "cell_type": "code",
   "execution_count": 44,
   "metadata": {},
   "outputs": [],
   "source": [
    "tweets_teste = [] \n",
    "for i in tw_teste:                \n",
    "    tweets_teste.append(i.split())\n",
    "# Forloop faz com que a lista \"tweets_teste\" vire uma lista de listas\n",
    "# Cada indice de \"tweets_teste\" é um tweet (separado por palavra) em formato de lista\n",
    "\n"
   ]
  },
  {
   "cell_type": "code",
   "execution_count": 45,
   "metadata": {},
   "outputs": [],
   "source": [
    "lista_relevancia=[]\n",
    "lista_irrelevancia=[]\n",
    "classificacao=[]\n",
    "d=1772 #número total de palavras diferentes em ambas as séries\n",
    "\n",
    "\n",
    "for tweet in tweets_teste:\n",
    "    i=0\n",
    "    alfa= 1\n",
    "    probTweetI= 1\n",
    "    probTweetR=1\n",
    "    for palavra in tweet:\n",
    "    #calculando a probabilidade do tweet ser irrelevante\n",
    "        if palavra in freq_irrel:\n",
    "            probTweetI*= (freq_irrel[palavra] +alfa)/(d +somaI)\n",
    "        if palavra not in freq_irrel:\n",
    "            probTweetI*=1/(d+ somaI)\n",
    "            (probTweetI)\n",
    "    #calculando a probabilidade do tweet ser relevante\n",
    "        if palavra in freq_rel:\n",
    "            probTweetR*= (freq_rel[palavra]+alfa)/(d+ somaR)\n",
    "        if palavra not in freq_rel:\n",
    "            probTweetR*=1/(d+ somaR)\n",
    "    lista_irrelevancia.append(probI*probTweetI)\n",
    "    lista_relevancia.append(probR*probTweetR)\n",
    "\n",
    "# comparacao de cada twweet para a classificacao    \n",
    "for i in range(0,149):\n",
    "    if lista_relevancia[i]<lista_irrelevancia[i]:\n",
    "        classificacao.append(2)\n",
    "    else:\n",
    "        classificacao.append(1)\n",
    "\n",
    "\n",
    "\n",
    "\n",
    "    \n",
    "    \n",
    "\n",
    "\n"
   ]
  },
  {
   "cell_type": "markdown",
   "metadata": {},
   "source": [
    "\n",
    "alpha= np.arange(0,1,0.01)\n",
    "for z in alpha:\n",
    "    acertos=0\n",
    "    for i in range(0,149):     \n",
    "        if lista_relevancia[i]>(z*(lista_irrelevancia[i]+lista_relevancia[i])):\n",
    "            classif=1      \n",
    "        else:\n",
    "            classif=2\n",
    "        if tweetsteste['classificacao'][i]==classif:\n",
    "            acertos+=1\n",
    "        \n",
    "        \n",
    "    \n",
    "   \n",
    "\n"
   ]
  },
  {
   "cell_type": "code",
   "execution_count": 46,
   "metadata": {},
   "outputs": [
    {
     "data": {
      "text/html": [
       "<div>\n",
       "<style scoped>\n",
       "    .dataframe tbody tr th:only-of-type {\n",
       "        vertical-align: middle;\n",
       "    }\n",
       "\n",
       "    .dataframe tbody tr th {\n",
       "        vertical-align: top;\n",
       "    }\n",
       "\n",
       "    .dataframe thead th {\n",
       "        text-align: right;\n",
       "    }\n",
       "</style>\n",
       "<table border=\"1\" class=\"dataframe\">\n",
       "  <thead>\n",
       "    <tr style=\"text-align: right;\">\n",
       "      <th></th>\n",
       "      <th>Teste</th>\n",
       "      <th>classificacao</th>\n",
       "      <th>irrelevancia</th>\n",
       "      <th>relevante</th>\n",
       "      <th>classificacao_comp</th>\n",
       "    </tr>\n",
       "  </thead>\n",
       "  <tbody>\n",
       "    <tr>\n",
       "      <th>0</th>\n",
       "      <td>@waagfreeitas kkkkk guaraná do jovem</td>\n",
       "      <td>2</td>\n",
       "      <td>4.325224e-15</td>\n",
       "      <td>5.756786e-16</td>\n",
       "      <td>2</td>\n",
       "    </tr>\n",
       "    <tr>\n",
       "      <th>1</th>\n",
       "      <td>@joaomiguelbdb bicho eu penso isso mas com rel...</td>\n",
       "      <td>2</td>\n",
       "      <td>3.468812e-53</td>\n",
       "      <td>4.190650e-52</td>\n",
       "      <td>1</td>\n",
       "    </tr>\n",
       "    <tr>\n",
       "      <th>2</th>\n",
       "      <td>a belle pediu p moça da padaria guarda o guara...</td>\n",
       "      <td>2</td>\n",
       "      <td>5.495035e-56</td>\n",
       "      <td>1.469550e-59</td>\n",
       "      <td>2</td>\n",
       "    </tr>\n",
       "    <tr>\n",
       "      <th>3</th>\n",
       "      <td>조승연 posta foto que eu te dou churrasco e guarana</td>\n",
       "      <td>2</td>\n",
       "      <td>4.433241e-30</td>\n",
       "      <td>5.340641e-30</td>\n",
       "      <td>1</td>\n",
       "    </tr>\n",
       "    <tr>\n",
       "      <th>4</th>\n",
       "      <td>@calebesouzao @pedrotolhos @guarana por nada, ...</td>\n",
       "      <td>2</td>\n",
       "      <td>1.251663e-44</td>\n",
       "      <td>3.568830e-45</td>\n",
       "      <td>2</td>\n",
       "    </tr>\n",
       "  </tbody>\n",
       "</table>\n",
       "</div>"
      ],
      "text/plain": [
       "                                               Teste  classificacao  \\\n",
       "0               @waagfreeitas kkkkk guaraná do jovem              2   \n",
       "1  @joaomiguelbdb bicho eu penso isso mas com rel...              2   \n",
       "2  a belle pediu p moça da padaria guarda o guara...              2   \n",
       "3   조승연 posta foto que eu te dou churrasco e guarana              2   \n",
       "4  @calebesouzao @pedrotolhos @guarana por nada, ...              2   \n",
       "\n",
       "   irrelevancia     relevante  classificacao_comp  \n",
       "0  4.325224e-15  5.756786e-16                   2  \n",
       "1  3.468812e-53  4.190650e-52                   1  \n",
       "2  5.495035e-56  1.469550e-59                   2  \n",
       "3  4.433241e-30  5.340641e-30                   1  \n",
       "4  1.251663e-44  3.568830e-45                   2  "
      ]
     },
     "execution_count": 46,
     "metadata": {},
     "output_type": "execute_result"
    }
   ],
   "source": [
    "\n",
    "tweetsteste= pd.read_excel('guarana.xlsx',sheet_name='Teste')\n",
    "df = pd.DataFrame(tweetsteste)\n",
    "tweets_teste= tweetsteste['Teste']\n",
    "#adicionando os elementos calculados na tabela\n",
    "tweetsteste[\"irrelevancia\"]= lista_irrelevancia\n",
    "tweetsteste[\"relevante\"]= lista_relevancia\n",
    "tweetsteste[\"classificacao_comp\"]= classificacao\n",
    "\n",
    "tweetsteste.head()\n",
    " \n"
   ]
  },
  {
   "cell_type": "code",
   "execution_count": 47,
   "metadata": {},
   "outputs": [
    {
     "data": {
      "text/html": [
       "<div>\n",
       "<style scoped>\n",
       "    .dataframe tbody tr th:only-of-type {\n",
       "        vertical-align: middle;\n",
       "    }\n",
       "\n",
       "    .dataframe tbody tr th {\n",
       "        vertical-align: top;\n",
       "    }\n",
       "\n",
       "    .dataframe thead th {\n",
       "        text-align: right;\n",
       "    }\n",
       "</style>\n",
       "<table border=\"1\" class=\"dataframe\">\n",
       "  <thead>\n",
       "    <tr style=\"text-align: right;\">\n",
       "      <th>classificacao_comp</th>\n",
       "      <th>1</th>\n",
       "      <th>2</th>\n",
       "    </tr>\n",
       "    <tr>\n",
       "      <th>classificacao</th>\n",
       "      <th></th>\n",
       "      <th></th>\n",
       "    </tr>\n",
       "  </thead>\n",
       "  <tbody>\n",
       "    <tr>\n",
       "      <th>1</th>\n",
       "      <td>0.727273</td>\n",
       "      <td>0.272727</td>\n",
       "    </tr>\n",
       "    <tr>\n",
       "      <th>2</th>\n",
       "      <td>0.333333</td>\n",
       "      <td>0.666667</td>\n",
       "    </tr>\n",
       "  </tbody>\n",
       "</table>\n",
       "</div>"
      ],
      "text/plain": [
       "classificacao_comp         1         2\n",
       "classificacao                         \n",
       "1                   0.727273  0.272727\n",
       "2                   0.333333  0.666667"
      ]
     },
     "execution_count": 47,
     "metadata": {},
     "output_type": "execute_result"
    }
   ],
   "source": [
    "#crosstab para comparacao dos resultados\n",
    "tweetsteste.head(100)\n",
    "pd.crosstab(tweetsteste['classificacao'],tweetsteste['classificacao_comp'],normalize='index')\n",
    "  "
   ]
  },
  {
   "cell_type": "markdown",
   "metadata": {},
   "source": [
    "Considerando classificar Relevante como positivo:\n",
    "Falsos Positivos= 33,3%\n",
    "Falsos Negativos= 27,2%\n",
    "Positivos Verdadeiros= 72,,2%\n",
    "Falsos Verdadeiros= 66,6%"
   ]
  },
  {
   "cell_type": "markdown",
   "metadata": {},
   "source": [
    "___\n",
    "### Concluindo"
   ]
  },
  {
   "cell_type": "markdown",
   "metadata": {},
   "source": [
    "Podemos concluir que nosso classificador tem uma precisão razoavelmente boa para classificar Tweets, pois nos dois casos, tanto de classificar como Relevante como Irrelevante, há mais de 60% de acertos. No entanto, para maior precisão, nosso classificador precisaria de mais tweets em seu banco de dados, o que faria com que uma variedade maior de palavras fossem analisadas, tornando-o mais eficaz.\n",
    "\n"
   ]
  },
  {
   "cell_type": "markdown",
   "metadata": {},
   "source": [
    "# Aprimorando"
   ]
  },
  {
   "cell_type": "markdown",
   "metadata": {},
   "source": [
    "Para aprimorar nosso Classificador, poderíamos também adicionar melhorias na função de limpeza, retirando, por exemplo o símbolo 'https://\", com a função replace. Também poderíamos criar classificações intermediárias as propostas, como Muito Relevante e Neutro, o que exigiria um espaço amostral maior de tweets, outro ponto que seria uma melhoria para nosso classificador. "
   ]
  },
  {
   "cell_type": "markdown",
   "metadata": {},
   "source": [
    "# Outras aplicações para o classificador\n"
   ]
  },
  {
   "cell_type": "markdown",
   "metadata": {},
   "source": [
    "1- Detectar spams em e-mails ( palavras frequentes em spams seriam detectadas e e-mails com muitas daquelas palavras seriam descartados)\n",
    "\n"
   ]
  },
  {
   "cell_type": "markdown",
   "metadata": {},
   "source": [
    "2- Classificador de texto, ou seja, identificação de qual assunto se trata aquele texto, que pode ser útil para categorizá-los de forma automática para uma biblioteca virtual, por exemplo\n"
   ]
  },
  {
   "cell_type": "markdown",
   "metadata": {},
   "source": [
    "3-Área da medicina, probabilidade de um indivíduo ter alguma doença e análise da eficácia de exames, com as chances do teste ser falso positivo ou negativo, positivo verdadeiro etc..."
   ]
  },
  {
   "cell_type": "markdown",
   "metadata": {},
   "source": [
    "# Porquê não posso usar o classificador para gerar mais amostras de treinamento?\n"
   ]
  },
  {
   "cell_type": "markdown",
   "metadata": {},
   "source": [
    "O classificador não pode ser utilizado para gerar mais amostras treinamento porque o classificador que montamos já possui um \"viés\", ou seja, as palavras \"inéditas\" que o classificador verificaria já teriam sido préviamente analisadas por ele, então os mesmos erros seriam cometidos e o estudo confluiria sempre para uma mesma conclusão ( que ele já teria previamente)."
   ]
  },
  {
   "cell_type": "markdown",
   "metadata": {},
   "source": [
    "___\n",
    "## Aperfeiçoamento:\n",
    "\n",
    "Os trabalhos vão evoluir em conceito dependendo da quantidade de itens avançados:\n",
    "\n",
    "* Limpar: \\n, :, \", ', (, ), etc SEM remover emojis\n",
    "* Corrigir separação de espaços entre palavras e emojis ou entre emojis e emojis\n",
    "* Propor outras limpezas e transformações que não afetem a qualidade da informação ou classificação\n",
    "* Criar categorias intermediárias de relevância baseadas na probabilidade: ex.: muito relevante, relevante, neutro, irrelevante, muito irrelevante (3 categorias: C, mais categorias conta para B)\n",
    "* Explicar por que não posso usar o próprio classificador para gerar mais amostras de treinamento\n",
    "* Propor diferentes cenários para Naïve Bayes fora do contexto do projeto\n",
    "* Sugerir e explicar melhorias reais com indicações concretas de como implementar (indicar como fazer e indicar material de pesquisa)\n",
    "* Montar um dashboard que periodicamente realiza análise de sentimento e visualiza estes dados"
   ]
  },
  {
   "cell_type": "code",
   "execution_count": null,
   "metadata": {},
   "outputs": [],
   "source": []
  },
  {
   "cell_type": "markdown",
   "metadata": {},
   "source": [
    "___\n",
    "## Referências"
   ]
  },
  {
   "cell_type": "markdown",
   "metadata": {},
   "source": [
    "[Naive Bayes and Text Classification](https://arxiv.org/pdf/1410.5329.pdf)  **Mais completo**\n",
    "\n",
    "[A practical explanation of a Naive Bayes Classifier](https://monkeylearn.com/blog/practical-explanation-naive-bayes-classifier/) **Mais simples**"
   ]
  },
  {
   "cell_type": "code",
   "execution_count": null,
   "metadata": {},
   "outputs": [],
   "source": []
  }
 ],
 "metadata": {
  "kernelspec": {
   "display_name": "Python 3",
   "language": "python",
   "name": "python3"
  },
  "language_info": {
   "codemirror_mode": {
    "name": "ipython",
    "version": 3
   },
   "file_extension": ".py",
   "mimetype": "text/x-python",
   "name": "python",
   "nbconvert_exporter": "python",
   "pygments_lexer": "ipython3",
   "version": "3.7.1"
  }
 },
 "nbformat": 4,
 "nbformat_minor": 4
}
